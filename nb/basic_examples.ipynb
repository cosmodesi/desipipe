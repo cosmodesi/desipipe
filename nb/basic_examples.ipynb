{
 "cells": [
  {
   "cell_type": "markdown",
   "id": "07bf9c1e",
   "metadata": {},
   "source": [
    "# Basic examples\n",
    "In this notebook we will show how to write a basic pipeline, in the **desipipe** framework. You need to have installed **desipipe** with:\n",
    "```\n",
    "python -m pip install git+https://github.com/cosmodesi/desipipe#egg=desipipe\n",
    "```"
   ]
  },
  {
   "cell_type": "markdown",
   "id": "37ce0568",
   "metadata": {},
   "source": [
    "## Task manager\n",
    "Let's consider a simple example: the Monte-Carlo estimation of $\\pi$."
   ]
  },
  {
   "cell_type": "code",
   "execution_count": 1,
   "id": "76bf7092",
   "metadata": {},
   "outputs": [
    {
     "ename": "TypeError",
     "evalue": "Queue.__init__() got an unexpected keyword argument 'spawn'",
     "output_type": "error",
     "traceback": [
      "\u001b[0;31m---------------------------------------------------------------------------\u001b[0m",
      "\u001b[0;31mTypeError\u001b[0m                                 Traceback (most recent call last)",
      "Cell \u001b[0;32mIn[1], line 10\u001b[0m\n\u001b[1;32m      3\u001b[0m \u001b[38;5;28;01mfrom\u001b[39;00m \u001b[38;5;21;01mdesipipe\u001b[39;00m \u001b[38;5;28;01mimport\u001b[39;00m Queue, Environment, TaskManager, FileManager\n\u001b[1;32m      5\u001b[0m \u001b[38;5;66;03m# Let's instantiate a Queue, which records all tasks to be performed\u001b[39;00m\n\u001b[1;32m      6\u001b[0m \u001b[38;5;66;03m# spawn=True means a manager process is spawned to distribute the tasks among workers\u001b[39;00m\n\u001b[1;32m      7\u001b[0m \u001b[38;5;66;03m# spawn=False only updates the queue, but no other process to run the tasks is spawned\u001b[39;00m\n\u001b[1;32m      8\u001b[0m \u001b[38;5;66;03m# That can be updated afterwards, with e.g. the command line (see below):\u001b[39;00m\n\u001b[1;32m      9\u001b[0m \u001b[38;5;66;03m# desipipe spawn -q ./_tests/test --spawn\u001b[39;00m\n\u001b[0;32m---> 10\u001b[0m queue \u001b[38;5;241m=\u001b[39m \u001b[43mQueue\u001b[49m\u001b[43m(\u001b[49m\u001b[38;5;124;43m'\u001b[39;49m\u001b[38;5;124;43mtest\u001b[39;49m\u001b[38;5;124;43m'\u001b[39;49m\u001b[43m,\u001b[49m\u001b[43m \u001b[49m\u001b[43mbase_dir\u001b[49m\u001b[38;5;241;43m=\u001b[39;49m\u001b[38;5;124;43m'\u001b[39;49m\u001b[38;5;124;43m_tests\u001b[39;49m\u001b[38;5;124;43m'\u001b[39;49m\u001b[43m,\u001b[49m\u001b[43m \u001b[49m\u001b[43mspawn\u001b[49m\u001b[38;5;241;43m=\u001b[39;49m\u001b[38;5;28;43;01mTrue\u001b[39;49;00m\u001b[43m)\u001b[49m\n\u001b[1;32m     11\u001b[0m \u001b[38;5;66;03m# Pool of 4 workers\u001b[39;00m\n\u001b[1;32m     12\u001b[0m \u001b[38;5;66;03m# Any environment variable can be passed to Environment: it will be set when running the tasks below\u001b[39;00m\n\u001b[1;32m     13\u001b[0m tm \u001b[38;5;241m=\u001b[39m TaskManager(queue, environ\u001b[38;5;241m=\u001b[39mEnvironment(), scheduler\u001b[38;5;241m=\u001b[39m\u001b[38;5;28mdict\u001b[39m(max_workers\u001b[38;5;241m=\u001b[39m\u001b[38;5;241m4\u001b[39m))\n",
      "\u001b[0;31mTypeError\u001b[0m: Queue.__init__() got an unexpected keyword argument 'spawn'"
     ]
    }
   ],
   "source": [
    "import time\n",
    "\n",
    "from desipipe import Queue, Environment, TaskManager, FileManager\n",
    "\n",
    "# Let's instantiate a Queue, which records all tasks to be performed\n",
    "# spawn=True means a manager process is spawned to distribute the tasks among workers\n",
    "# spawn=False only updates the queue, but no other process to run the tasks is spawned\n",
    "# That can be updated afterwards, with e.g. the command line (see below):\n",
    "# desipipe spawn -q ./_tests/test --spawn\n",
    "queue = Queue('test', base_dir='_tests', spawn=True)\n",
    "# Pool of 4 workers\n",
    "# Any environment variable can be passed to Environment: it will be set when running the tasks below\n",
    "tm = TaskManager(queue, environ=Environment(), scheduler=dict(max_workers=4))\n",
    "\n",
    "# We decorate the function (task) with tm.python_app\n",
    "@tm.python_app\n",
    "def fraction(seed=42, size=10000):\n",
    "    # All definitions, except input parameters, must be in the function itself\n",
    "    import time\n",
    "    import numpy as np\n",
    "    time.sleep(5)  # wait 5 seconds, just to show jobs are indeed run in parallel\n",
    "    x, y = np.random.uniform(-1, 1, size), np.random.uniform(-1, 1, size)\n",
    "    return np.sum((x**2 + y**2) < 1.) * 1. / size\n",
    "\n",
    "# Here we use another task manager, with only 1 worker\n",
    "tm2 = tm.clone(scheduler=dict(max_workers=1))\n",
    "@tm2.python_app  # the two lines above can be on the same line in Python >= 3.9\n",
    "def average(fractions):\n",
    "    import numpy as np\n",
    "    return np.average(fractions) * 4.\n",
    "\n",
    "# Let's add another task, to be run in a shell\n",
    "@tm2.bash_app\n",
    "def echo(avg):\n",
    "    return ['echo', '-n', 'bash app says pi is ~ {:.4f}'.format(avg)]\n",
    "\n",
    "t0 = time.time()\n",
    "# The following line stacks all the tasks in the queue\n",
    "fractions = [fraction(seed=i) for i in range(20)]\n",
    "# fractions is a list of Future instances\n",
    "# We can pass them to other tasks, which creates a dependency graph\n",
    "avg = average(fractions)\n",
    "ech = echo(avg)\n",
    "# At this point jobs are submitted\n",
    "print('Elapsed time: {:.4f}'.format(time.time() - t0))"
   ]
  },
  {
   "cell_type": "code",
   "execution_count": null,
   "id": "d60f9d87",
   "metadata": {},
   "outputs": [],
   "source": [
    "# result() returns the result of the function, which can take some time to complete\n",
    "# in this case, ~ 20 tasks which take 5 seconds distributed over 4 processes: typically 25 seconds\n",
    "print(ech.out())\n",
    "print('pi is ~ {:.4f}'.format(avg.result()))\n",
    "print('Elapsed time: {:.1f}'.format(time.time() - t0))"
   ]
  },
  {
   "cell_type": "markdown",
   "id": "0ecfb5fa",
   "metadata": {},
   "source": [
    "## Tips\n",
    "If you re-execute the two above cells, the cached result is immediately returned.\n",
    "If you modify e.g. ``fraction``, a new result (including ``average``) will be computed.\n",
    "If you modify ``average``, only ``average`` will be computed again.\n",
    "To change this default behavior, you can pass ``skip=True`` (skip this app) or ``name=True`` (or a the original app name)"
   ]
  },
  {
   "cell_type": "code",
   "execution_count": null,
   "id": "be9d89b9",
   "metadata": {},
   "outputs": [],
   "source": [
    "@tm2.bash_app(skip=True)  # no computation scheduled, just returns None\n",
    "def echo2(avg):\n",
    "    return 42\n",
    "\n",
    "assert echo2(avg) is None\n",
    "\n",
    "@tm2.bash_app(name=True)\n",
    "def fraction():\n",
    "    return None\n",
    "\n",
    "for frac in fractions:\n",
    "    assert fraction().result() == frac.result()  # the previous fraction result is used\n",
    "\n",
    "@tm2.bash_app(name='echo')\n",
    "def echo2(avg):\n",
    "    return 42\n",
    "\n",
    "print(echo2().out())  # the same as echo().out()"
   ]
  },
  {
   "cell_type": "markdown",
   "id": "d6fdd149",
   "metadata": {},
   "source": [
    "Note that one can incrementally build the script: previous tasks will not be rerun if they have not changed."
   ]
  },
  {
   "cell_type": "markdown",
   "id": "8a74179d",
   "metadata": {},
   "source": [
    "## Command line\n",
    "We provide a number of command line instructions to interact with queues: list queues, tasks in a queue, pause or resume a queue."
   ]
  },
  {
   "cell_type": "markdown",
   "id": "cff21bc7",
   "metadata": {},
   "source": [
    "### List queues"
   ]
  },
  {
   "cell_type": "code",
   "execution_count": null,
   "id": "6b5cdd34",
   "metadata": {},
   "outputs": [],
   "source": [
    "%%bash\n",
    "desipipe queues -q './_tests/*'"
   ]
  },
  {
   "cell_type": "markdown",
   "id": "99bbb7d3",
   "metadata": {},
   "source": [
    "### List tasks in a queue"
   ]
  },
  {
   "cell_type": "code",
   "execution_count": null,
   "id": "77fc6839",
   "metadata": {},
   "outputs": [],
   "source": [
    "%%bash\n",
    "desipipe tasks -q ./_tests/test\n",
    "# task state can be:\n",
    "# WAITING  Waiting for requirements (other tasks) to finish\n",
    "# PENDING  Eligible to be selected and run\n",
    "# RUNNING  Running right now\n",
    "# SUCCEEDED  Finished with errno = 0\n",
    "# FAILED  Finished with errno != 0"
   ]
  },
  {
   "cell_type": "markdown",
   "id": "d4671e3b",
   "metadata": {},
   "source": [
    "### Pause a queue\n",
    "When pausing a queue, all processes running tasks from this queue will stop (after they finish their current task)."
   ]
  },
  {
   "cell_type": "code",
   "execution_count": null,
   "id": "8948e387",
   "metadata": {},
   "outputs": [],
   "source": [
    "%%bash\n",
    "desipipe pause -q ./_tests/test\n",
    "desipipe queues -q './_tests/*'  # state is now PAUSED"
   ]
  },
  {
   "cell_type": "markdown",
   "id": "305e8560",
   "metadata": {},
   "source": [
    "### Resume a queue\n",
    "When resuming a queue, tasks can be processed."
   ]
  },
  {
   "cell_type": "code",
   "execution_count": null,
   "id": "ba25178f",
   "metadata": {},
   "outputs": [],
   "source": [
    "%%bash\n",
    "desipipe resume -q ./_tests/test  # pass --spawn to spawn a manager process that will distribute the tasks among workers\n",
    "desipipe queues -q './_tests/*'  # state is now ACTIVE"
   ]
  },
  {
   "cell_type": "markdown",
   "id": "f8703937",
   "metadata": {},
   "source": [
    "### Retry\n",
    "Change task state to PENDING."
   ]
  },
  {
   "cell_type": "code",
   "execution_count": null,
   "id": "93d90c1c",
   "metadata": {},
   "outputs": [],
   "source": [
    "%%bash\n",
    "desipipe retry -q ./_tests/test --state SUCCEEDED\n",
    "desipipe queues -q './_tests/*'  # task state is now PENDING"
   ]
  },
  {
   "cell_type": "markdown",
   "id": "163bdb5a",
   "metadata": {},
   "source": [
    "### Spawn a manager process\n",
    "Spawn a manager process that will distribute the tasks among workers, using the scheduler and provider defined above."
   ]
  },
  {
   "cell_type": "code",
   "execution_count": null,
   "id": "0761f1d2",
   "metadata": {},
   "outputs": [],
   "source": [
    "%%bash\n",
    "desipipe spawn -q ./_tests/test  # pass --spawn to spawn an independent process, and exit this one\n",
    "desipipe queues -q './_tests/*'  # tasks have been reprocessed: SUCCEEDED"
   ]
  },
  {
   "cell_type": "markdown",
   "id": "eb879a3e",
   "metadata": {},
   "source": [
    "### Delete queue(s)"
   ]
  },
  {
   "cell_type": "code",
   "execution_count": null,
   "id": "8f5bce2b",
   "metadata": {},
   "outputs": [],
   "source": [
    "%%bash\n",
    "desipipe delete -q './_tests/*'  # pass --force to actually delete the queue"
   ]
  },
  {
   "cell_type": "markdown",
   "id": "c71f8a3e",
   "metadata": {},
   "source": [
    "## File manager\n",
    "The file manager aimes at keeping track of files (of all kinds) produced in the processing."
   ]
  },
  {
   "cell_type": "code",
   "execution_count": null,
   "id": "dbc80ce6",
   "metadata": {},
   "outputs": [],
   "source": [
    "%%file '_tests/files.yaml'\n",
    "\n",
    "description: Some text file\n",
    "id: my_input_file\n",
    "filetype: text\n",
    "path: ${SOMEDIR}/in_{option1}_{i:d}.txt\n",
    "author: Chuck Norris\n",
    "options:\n",
    "  option1: ['a', 'b']\n",
    "  i: range(0, 3, 1)"
   ]
  },
  {
   "cell_type": "code",
   "execution_count": null,
   "id": "b2210907",
   "metadata": {},
   "outputs": [],
   "source": [
    "fm = FileManager('_tests/files.yaml', environ=dict(SOMEDIR='_tests'))\n",
    "# To select files\n",
    "fm2 = fm.select(keywords='text file', option1=['a'])\n",
    "# Iterate over files\n",
    "for fi in fm2:\n",
    "    fi = fi.get()\n",
    "    print(fi)\n",
    "    # Write text\n",
    "    fi.write('hello world!')"
   ]
  },
  {
   "cell_type": "code",
   "execution_count": null,
   "id": "76983469",
   "metadata": {},
   "outputs": [],
   "source": [
    "# To add a new entry\n",
    "fm.append(dict(description='added file', id='added_file', filetype='catalog', path='test.fits'))\n",
    "# To delete an entry\n",
    "del fm[-1]\n",
    "# To add a cloned entry\n",
    "fm.append(fm[0].clone(id='my_output_file', path='${SOMEDIR}/out_{option1}_{i:d}.txt'))\n",
    "fm.write('_tests/files.yaml')\n",
    "# Display new file data base\n",
    "!cat '_tests/files.yaml'"
   ]
  },
  {
   "cell_type": "markdown",
   "id": "606c3e2f",
   "metadata": {},
   "source": [
    "In practice, we will just edit the *.yaml* file directly."
   ]
  },
  {
   "cell_type": "code",
   "execution_count": null,
   "id": "76993b27",
   "metadata": {},
   "outputs": [],
   "source": [
    "# Let's add a new task!\n",
    "@tm.python_app\n",
    "def copy(text_in, text_out):\n",
    "    import numpy as np  # just to illustrate that the package version is tracked\n",
    "    text = text_in.read()\n",
    "    text += ' this is my first message'\n",
    "    print('saving', text_out.filepath)\n",
    "    text_out.write(text)"
   ]
  },
  {
   "cell_type": "code",
   "execution_count": null,
   "id": "f2a9993f",
   "metadata": {},
   "outputs": [],
   "source": [
    "# Iterate over files\n",
    "for fi in fm:\n",
    "    copy(fi.get(id='my_input_file'), fi.get(id='my_output_file'))\n",
    "\n",
    "# Let's spawn a new process, as the previous one has finished (there was no work anymore!)\n",
    "from desipipe import spawn\n",
    "spawn(queue)"
   ]
  },
  {
   "cell_type": "code",
   "execution_count": null,
   "id": "b9fc0d4f",
   "metadata": {},
   "outputs": [],
   "source": [
    "!ls -a _tests/"
   ]
  },
  {
   "cell_type": "code",
   "execution_count": null,
   "id": "d01289db",
   "metadata": {},
   "outputs": [],
   "source": [
    "!cat _tests/out_a_0.txt"
   ]
  },
  {
   "cell_type": "code",
   "execution_count": null,
   "id": "466d3b33",
   "metadata": {},
   "outputs": [],
   "source": [
    "# This is where desipipe processing information is saved\n",
    "!ls -a _tests/.desipipe\n",
    "print('\\n*.py file is:')\n",
    "!cat _tests/.desipipe/copy.py\n",
    "print('\\n*.versions file is:')\n",
    "!cat _tests/.desipipe/copy.versions"
   ]
  },
  {
   "cell_type": "code",
   "execution_count": null,
   "id": "b47388b8",
   "metadata": {},
   "outputs": [],
   "source": [
    "# Delete queue\n",
    "queue.delete()"
   ]
  }
 ],
 "metadata": {
  "kernelspec": {
   "display_name": "cosmodesi-main",
   "language": "python",
   "name": "cosmodesi-main"
  },
  "language_info": {
   "codemirror_mode": {
    "name": "ipython",
    "version": 3
   },
   "file_extension": ".py",
   "mimetype": "text/x-python",
   "name": "python",
   "nbconvert_exporter": "python",
   "pygments_lexer": "ipython3",
   "version": "3.10.12"
  }
 },
 "nbformat": 4,
 "nbformat_minor": 5
}
