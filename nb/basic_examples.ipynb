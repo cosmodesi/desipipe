{
 "cells": [
  {
   "cell_type": "markdown",
   "id": "07bf9c1e",
   "metadata": {},
   "source": [
    "# Basic examples\n",
    "In this notebook we will show how to write a basic pipeline, in the **desipipe** framework. You need to have installed **desipipe** with:\n",
    "```\n",
    "python -m pip install git+https://github.com/cosmodesi/desipipe#egg=desipipe\n",
    "```"
   ]
  },
  {
   "cell_type": "markdown",
   "id": "37ce0568",
   "metadata": {},
   "source": [
    "## Task manager\n",
    "Let's consider a simple example: the Monte-Carlo estimation of $\\pi$."
   ]
  },
  {
   "cell_type": "code",
   "execution_count": 1,
   "id": "76bf7092",
   "metadata": {},
   "outputs": [
    {
     "name": "stdout",
     "output_type": "stream",
     "text": [
      "Elapsed time: 1.0306\n"
     ]
    }
   ],
   "source": [
    "import time\n",
    "\n",
    "from desipipe import Queue, Environment, TaskManager, FileManager, spawn\n",
    "\n",
    "# Let's instantiate a Queue, which records all tasks to be performed\n",
    "queue = Queue('test', base_dir='_tests')\n",
    "queue.clear()\n",
    "# Pool of 4 workers\n",
    "# Any environment variable can be passed to Environment: it will be set when running the tasks below\n",
    "tm = TaskManager(queue, environ=Environment(), scheduler=dict(max_workers=4))\n",
    "\n",
    "def draw_random_numbers(size):\n",
    "    import numpy as np\n",
    "    return np.random.uniform(-1, 1, size)\n",
    "\n",
    "# We decorate the function (task) with tm.python_app\n",
    "@tm.python_app\n",
    "def fraction(seed=42, size=10000, draw_random_numbers=draw_random_numbers):\n",
    "    # All definitions, except input parameters, must be in the function itself, or in its arguments\n",
    "    # and this, recursively:\n",
    "    # draw_random_numbers is defined above and all definitions, except input parameters, are in the function itself\n",
    "    # This is required for the tasks to be pickelable (~ can be converted to bytes)\n",
    "    import time\n",
    "    import numpy as np\n",
    "    time.sleep(5)  # wait 5 seconds, just to show jobs are indeed run in parallel\n",
    "    x, y = draw_random_numbers(size), draw_random_numbers(size)\n",
    "    return np.sum((x**2 + y**2) < 1.) * 1. / size  # fraction of points in the inner circle of radius 1\n",
    "\n",
    "# Here we use another task manager, with only 1 worker\n",
    "tm2 = tm.clone(scheduler=dict(max_workers=1))\n",
    "@tm2.python_app\n",
    "def average(fractions):\n",
    "    import numpy as np\n",
    "    return np.average(fractions) * 4.\n",
    "\n",
    "# Let's add another task, to be run with bash\n",
    "@tm2.bash_app\n",
    "def echo(avg):\n",
    "    return ['echo', '-n', 'bash app says pi is ~ {:.4f}'.format(avg)]\n",
    "\n",
    "t0 = time.time()\n",
    "# The following line stacks all the tasks in the queue\n",
    "fractions = [fraction(seed=i) for i in range(20)]\n",
    "# fractions is a list of Future instances\n",
    "# We can pass them to other tasks, which creates a dependency graph\n",
    "avg = average(fractions)\n",
    "ech = echo(avg)\n",
    "print('Elapsed time: {:.4f}'.format(time.time() - t0))"
   ]
  },
  {
   "cell_type": "markdown",
   "id": "545d1a38",
   "metadata": {},
   "source": [
    "The cell above stacks all tasks in the queue. ``fraction`` tasks will be 'PENDING' (waiting to be run),\n",
    "while ``average`` tasks will be 'WAITING' for the former to complete. ``echo`` also depends on ``average``.\n",
    "Running the script above will write a queue on disk, with name 'test', in the directory ``_tests``\n",
    "(by default, it is ``${HOME}/.desipipe/queues/${USERNAME}/``).\n",
    "\n",
    "Now, we can spawn a manager process that will run the above tasks, following the specifications of the task managers."
   ]
  },
  {
   "cell_type": "code",
   "execution_count": 2,
   "id": "1070f93f",
   "metadata": {},
   "outputs": [
    {
     "name": "stdout",
     "output_type": "stream",
     "text": [
      "bash app says pi is ~ 3.147\n"
     ]
    }
   ],
   "source": [
    "# Spawn a process that will distribute the tasks over workers\n",
    "spawn(queue)\n",
    "# Alternatively, with the command line (see below):\n",
    "# desipipe spawn -q ./_tests/test --spawn"
   ]
  },
  {
   "cell_type": "code",
   "execution_count": 3,
   "id": "d60f9d87",
   "metadata": {},
   "outputs": [
    {
     "name": "stdout",
     "output_type": "stream",
     "text": [
      "bash app says pi is ~ 3.1470\n",
      "pi is ~ 3.1470\n",
      "Elapsed time: 37.6\n"
     ]
    }
   ],
   "source": [
    "# result() returns the result of the function, which can take some time to complete\n",
    "# in this case, ~ 20 tasks which take 5 seconds distributed over 4 processes: typically 25 seconds\n",
    "print(ech.out())\n",
    "print('pi is ~ {:.4f}'.format(avg.result()))\n",
    "print('Elapsed time: {:.1f}'.format(time.time() - t0))"
   ]
  },
  {
   "cell_type": "markdown",
   "id": "0ecfb5fa",
   "metadata": {},
   "source": [
    "## Tips\n",
    "If you re-execute the two above cells, the cached result is immediately returned.\n",
    "If you modify e.g. ``fraction``, a new result (including ``average``) will be computed.\n",
    "If you modify ``average``, only ``average`` will be computed again.\n",
    "To change this default behavior, you can pass ``skip=True`` (skip this app) or ``name=True`` (or a the original app name)"
   ]
  },
  {
   "cell_type": "code",
   "execution_count": 4,
   "id": "be9d89b9",
   "metadata": {},
   "outputs": [
    {
     "name": "stdout",
     "output_type": "stream",
     "text": [
      "bash app says pi is ~ 3.1470\n"
     ]
    }
   ],
   "source": [
    "@tm2.bash_app(skip=True)  # no computation scheduled, just returns None\n",
    "def echo2(avg):\n",
    "    return 42\n",
    "\n",
    "assert echo2(avg) is None\n",
    "\n",
    "@tm2.bash_app(name=True)\n",
    "def fraction():\n",
    "    return None\n",
    "\n",
    "for frac in fractions:\n",
    "    assert fraction().result() == frac.result()  # the previous fraction result is used\n",
    "\n",
    "@tm2.bash_app(name='echo')\n",
    "def echo2(avg):\n",
    "    return 42\n",
    "\n",
    "print(echo2().out())  # the same as echo().out()"
   ]
  },
  {
   "cell_type": "markdown",
   "id": "d6fdd149",
   "metadata": {},
   "source": [
    "Note that one can incrementally build the script: previous tasks will not be rerun if they have not changed.\n",
    "One can interact with ``queue`` from python directly, e.g.: ``queue.tasks()`` to list tasks, ``queue.pause()`` to pause the queue, ``queue.resume()`` to resume the queue, etc.\n",
    "Usually though, one will use the command line: see below."
   ]
  },
  {
   "cell_type": "markdown",
   "id": "8a74179d",
   "metadata": {},
   "source": [
    "## Command line\n",
    "We provide a number of command line instructions to interact with queues: list queues, tasks in a queue, pause or resume a queue.\n",
    "There are many options! to get help, e.g.: ``desipipe kill --help``."
   ]
  },
  {
   "cell_type": "markdown",
   "id": "cff21bc7",
   "metadata": {},
   "source": [
    "### Print queues"
   ]
  },
  {
   "cell_type": "code",
   "execution_count": 5,
   "id": "6b5cdd34",
   "metadata": {},
   "outputs": [
    {
     "name": "stderr",
     "output_type": "stream",
     "text": [
      "bash: /home/adematti/anaconda3/envs/cosmodesi-main/lib/libtinfo.so.6: no version information available (required by bash)\n"
     ]
    },
    {
     "name": "stdout",
     "output_type": "stream",
     "text": [
      "[000000.00]  09-12 18:45  desipipe                  INFO     Matching queues:\n",
      "[000000.00]  09-12 18:45  desipipe                  INFO     Queue(size=22, state=ACTIVE, filename=/home/adematti/Bureau/DESI/NERSC/cosmodesi/desipipe/nb/_tests/test.sqlite)\n",
      "WAITING   : 0\n",
      "PENDING   : 0\n",
      "RUNNING   : 0\n",
      "SUCCEEDED : 22\n",
      "FAILED    : 0\n",
      "KILLED    : 0\n",
      "UNKNOWN   : 0\n"
     ]
    }
   ],
   "source": [
    "%%bash\n",
    "desipipe queues -q './_tests/*'"
   ]
  },
  {
   "cell_type": "markdown",
   "id": "99bbb7d3",
   "metadata": {},
   "source": [
    "### Print tasks in a queue"
   ]
  },
  {
   "cell_type": "code",
   "execution_count": 6,
   "id": "77fc6839",
   "metadata": {},
   "outputs": [
    {
     "name": "stderr",
     "output_type": "stream",
     "text": [
      "bash: /home/adematti/anaconda3/envs/cosmodesi-main/lib/libtinfo.so.6: no version information available (required by bash)\n"
     ]
    },
    {
     "name": "stdout",
     "output_type": "stream",
     "text": [
      "[000000.12]  09-12 18:45  desipipe                  INFO     Tasks that are SUCCEEDED:\n",
      "[000000.12]  09-12 18:45  desipipe                  INFO     app: fraction\n",
      "[000000.12]  09-12 18:45  desipipe                  INFO     jobid: 2344187\n",
      "[000000.12]  09-12 18:45  desipipe                  INFO     errno: 0\n",
      "[000000.12]  09-12 18:45  desipipe                  INFO     err: \n",
      "[000000.12]  09-12 18:45  desipipe                  INFO     out: \n",
      "[000000.12]  09-12 18:45  desipipe                  INFO     ==============================\n",
      "[000000.12]  09-12 18:45  desipipe                  INFO     app: fraction\n",
      "[000000.12]  09-12 18:45  desipipe                  INFO     jobid: 2344195\n",
      "[000000.12]  09-12 18:45  desipipe                  INFO     errno: 0\n",
      "[000000.12]  09-12 18:45  desipipe                  INFO     err: \n",
      "[000000.12]  09-12 18:45  desipipe                  INFO     out: \n",
      "[000000.12]  09-12 18:45  desipipe                  INFO     ==============================\n",
      "[000000.12]  09-12 18:45  desipipe                  INFO     app: fraction\n",
      "[000000.12]  09-12 18:45  desipipe                  INFO     jobid: 2344209\n",
      "[000000.12]  09-12 18:45  desipipe                  INFO     errno: 0\n",
      "[000000.12]  09-12 18:45  desipipe                  INFO     err: \n",
      "[000000.12]  09-12 18:45  desipipe                  INFO     out: \n",
      "[000000.12]  09-12 18:45  desipipe                  INFO     ==============================\n",
      "[000000.12]  09-12 18:45  desipipe                  INFO     app: fraction\n",
      "[000000.12]  09-12 18:45  desipipe                  INFO     jobid: 2344230\n",
      "[000000.12]  09-12 18:45  desipipe                  INFO     errno: 0\n",
      "[000000.12]  09-12 18:45  desipipe                  INFO     err: \n",
      "[000000.12]  09-12 18:45  desipipe                  INFO     out: \n",
      "[000000.12]  09-12 18:45  desipipe                  INFO     ==============================\n",
      "[000000.12]  09-12 18:45  desipipe                  INFO     app: fraction\n",
      "[000000.12]  09-12 18:45  desipipe                  INFO     jobid: 2344187\n",
      "[000000.12]  09-12 18:45  desipipe                  INFO     errno: 0\n",
      "[000000.12]  09-12 18:45  desipipe                  INFO     err: \n",
      "[000000.12]  09-12 18:45  desipipe                  INFO     out: \n",
      "[000000.12]  09-12 18:45  desipipe                  INFO     ==============================\n",
      "[000000.12]  09-12 18:45  desipipe                  INFO     app: fraction\n",
      "[000000.12]  09-12 18:45  desipipe                  INFO     jobid: 2344195\n",
      "[000000.12]  09-12 18:45  desipipe                  INFO     errno: 0\n",
      "[000000.12]  09-12 18:45  desipipe                  INFO     err: \n",
      "[000000.12]  09-12 18:45  desipipe                  INFO     out: \n",
      "[000000.12]  09-12 18:45  desipipe                  INFO     ==============================\n",
      "[000000.12]  09-12 18:45  desipipe                  INFO     app: fraction\n",
      "[000000.12]  09-12 18:45  desipipe                  INFO     jobid: 2344209\n",
      "[000000.12]  09-12 18:45  desipipe                  INFO     errno: 0\n",
      "[000000.12]  09-12 18:45  desipipe                  INFO     err: \n",
      "[000000.12]  09-12 18:45  desipipe                  INFO     out: \n",
      "[000000.12]  09-12 18:45  desipipe                  INFO     ==============================\n",
      "[000000.12]  09-12 18:45  desipipe                  INFO     app: fraction\n",
      "[000000.12]  09-12 18:45  desipipe                  INFO     jobid: 2344230\n",
      "[000000.12]  09-12 18:45  desipipe                  INFO     errno: 0\n",
      "[000000.12]  09-12 18:45  desipipe                  INFO     err: \n",
      "[000000.12]  09-12 18:45  desipipe                  INFO     out: \n",
      "[000000.12]  09-12 18:45  desipipe                  INFO     ==============================\n",
      "[000000.12]  09-12 18:45  desipipe                  INFO     app: fraction\n",
      "[000000.12]  09-12 18:45  desipipe                  INFO     jobid: 2344187\n",
      "[000000.12]  09-12 18:45  desipipe                  INFO     errno: 0\n",
      "[000000.12]  09-12 18:45  desipipe                  INFO     err: \n",
      "[000000.12]  09-12 18:45  desipipe                  INFO     out: \n",
      "[000000.12]  09-12 18:45  desipipe                  INFO     ==============================\n",
      "[000000.12]  09-12 18:45  desipipe                  INFO     app: fraction\n",
      "[000000.12]  09-12 18:45  desipipe                  INFO     jobid: 2344195\n",
      "[000000.12]  09-12 18:45  desipipe                  INFO     errno: 0\n",
      "[000000.12]  09-12 18:45  desipipe                  INFO     err: \n",
      "[000000.12]  09-12 18:45  desipipe                  INFO     out: \n",
      "[000000.12]  09-12 18:45  desipipe                  INFO     ==============================\n",
      "[000000.12]  09-12 18:45  desipipe                  INFO     app: fraction\n",
      "[000000.12]  09-12 18:45  desipipe                  INFO     jobid: 2344209\n",
      "[000000.12]  09-12 18:45  desipipe                  INFO     errno: 0\n",
      "[000000.12]  09-12 18:45  desipipe                  INFO     err: \n",
      "[000000.12]  09-12 18:45  desipipe                  INFO     out: \n",
      "[000000.12]  09-12 18:45  desipipe                  INFO     ==============================\n",
      "[000000.12]  09-12 18:45  desipipe                  INFO     app: fraction\n",
      "[000000.12]  09-12 18:45  desipipe                  INFO     jobid: 2344230\n",
      "[000000.12]  09-12 18:45  desipipe                  INFO     errno: 0\n",
      "[000000.12]  09-12 18:45  desipipe                  INFO     err: \n",
      "[000000.12]  09-12 18:45  desipipe                  INFO     out: \n",
      "[000000.12]  09-12 18:45  desipipe                  INFO     ==============================\n",
      "[000000.12]  09-12 18:45  desipipe                  INFO     app: fraction\n",
      "[000000.12]  09-12 18:45  desipipe                  INFO     jobid: 2344187\n",
      "[000000.12]  09-12 18:45  desipipe                  INFO     errno: 0\n",
      "[000000.12]  09-12 18:45  desipipe                  INFO     err: \n",
      "[000000.12]  09-12 18:45  desipipe                  INFO     out: \n",
      "[000000.12]  09-12 18:45  desipipe                  INFO     ==============================\n",
      "[000000.12]  09-12 18:45  desipipe                  INFO     app: fraction\n",
      "[000000.12]  09-12 18:45  desipipe                  INFO     jobid: 2344195\n",
      "[000000.12]  09-12 18:45  desipipe                  INFO     errno: 0\n",
      "[000000.12]  09-12 18:45  desipipe                  INFO     err: \n",
      "[000000.12]  09-12 18:45  desipipe                  INFO     out: \n",
      "[000000.12]  09-12 18:45  desipipe                  INFO     ==============================\n",
      "[000000.12]  09-12 18:45  desipipe                  INFO     app: fraction\n",
      "[000000.12]  09-12 18:45  desipipe                  INFO     jobid: 2344209\n",
      "[000000.12]  09-12 18:45  desipipe                  INFO     errno: 0\n",
      "[000000.12]  09-12 18:45  desipipe                  INFO     err: \n",
      "[000000.12]  09-12 18:45  desipipe                  INFO     out: \n",
      "[000000.12]  09-12 18:45  desipipe                  INFO     ==============================\n",
      "[000000.12]  09-12 18:45  desipipe                  INFO     app: fraction\n",
      "[000000.12]  09-12 18:45  desipipe                  INFO     jobid: 2344230\n",
      "[000000.12]  09-12 18:45  desipipe                  INFO     errno: 0\n",
      "[000000.12]  09-12 18:45  desipipe                  INFO     err: \n",
      "[000000.12]  09-12 18:45  desipipe                  INFO     out: \n",
      "[000000.12]  09-12 18:45  desipipe                  INFO     ==============================\n",
      "[000000.12]  09-12 18:45  desipipe                  INFO     app: fraction\n",
      "[000000.12]  09-12 18:45  desipipe                  INFO     jobid: 2344187\n",
      "[000000.12]  09-12 18:45  desipipe                  INFO     errno: 0\n",
      "[000000.12]  09-12 18:45  desipipe                  INFO     err: \n",
      "[000000.12]  09-12 18:45  desipipe                  INFO     out: \n",
      "[000000.12]  09-12 18:45  desipipe                  INFO     ==============================\n",
      "[000000.12]  09-12 18:45  desipipe                  INFO     app: fraction\n",
      "[000000.12]  09-12 18:45  desipipe                  INFO     jobid: 2344195\n",
      "[000000.12]  09-12 18:45  desipipe                  INFO     errno: 0\n",
      "[000000.12]  09-12 18:45  desipipe                  INFO     err: \n",
      "[000000.12]  09-12 18:45  desipipe                  INFO     out: \n",
      "[000000.12]  09-12 18:45  desipipe                  INFO     ==============================\n",
      "[000000.12]  09-12 18:45  desipipe                  INFO     app: fraction\n"
     ]
    },
    {
     "name": "stdout",
     "output_type": "stream",
     "text": [
      "[000000.12]  09-12 18:45  desipipe                  INFO     jobid: 2344209\n",
      "[000000.12]  09-12 18:45  desipipe                  INFO     errno: 0\n",
      "[000000.12]  09-12 18:45  desipipe                  INFO     err: \n",
      "[000000.12]  09-12 18:45  desipipe                  INFO     out: \n",
      "[000000.12]  09-12 18:45  desipipe                  INFO     ==============================\n",
      "[000000.12]  09-12 18:45  desipipe                  INFO     app: fraction\n",
      "[000000.12]  09-12 18:45  desipipe                  INFO     jobid: 2344230\n",
      "[000000.12]  09-12 18:45  desipipe                  INFO     errno: 0\n",
      "[000000.12]  09-12 18:45  desipipe                  INFO     err: \n",
      "[000000.12]  09-12 18:45  desipipe                  INFO     out: \n",
      "[000000.12]  09-12 18:45  desipipe                  INFO     ==============================\n",
      "[000000.12]  09-12 18:45  desipipe                  INFO     app: average\n",
      "[000000.12]  09-12 18:45  desipipe                  INFO     jobid: 2344315\n",
      "[000000.12]  09-12 18:45  desipipe                  INFO     errno: 0\n",
      "[000000.12]  09-12 18:45  desipipe                  INFO     err: \n",
      "[000000.12]  09-12 18:45  desipipe                  INFO     out: \n",
      "[000000.12]  09-12 18:45  desipipe                  INFO     ==============================\n",
      "[000000.12]  09-12 18:45  desipipe                  INFO     app: echo\n",
      "[000000.12]  09-12 18:45  desipipe                  INFO     jobid: 2344315\n",
      "[000000.12]  09-12 18:45  desipipe                  INFO     errno: 0\n",
      "[000000.12]  09-12 18:45  desipipe                  INFO     err: \n",
      "[000000.12]  09-12 18:45  desipipe                  INFO     out: bash app says pi is ~ 3.1470\n",
      "[000000.12]  09-12 18:45  desipipe                  INFO     ==============================\n"
     ]
    }
   ],
   "source": [
    "%%bash\n",
    "desipipe tasks -q ./_tests/test\n",
    "# task state can be:\n",
    "# WAITING: Waiting for requirements (other tasks) to finish\n",
    "# PENDING: Eligible to be selected and run\n",
    "# RUNNING: Running right now (out and err are updated live)\n",
    "# SUCCEEDED: Finished with errno = 0\n",
    "# FAILED: Finished with errno != 0"
   ]
  },
  {
   "cell_type": "markdown",
   "id": "d4671e3b",
   "metadata": {},
   "source": [
    "### Pause a queue\n",
    "When pausing a queue, all processes running tasks from this queue will stop (after they finish their current task)."
   ]
  },
  {
   "cell_type": "code",
   "execution_count": 7,
   "id": "8948e387",
   "metadata": {},
   "outputs": [
    {
     "name": "stderr",
     "output_type": "stream",
     "text": [
      "bash: /home/adematti/anaconda3/envs/cosmodesi-main/lib/libtinfo.so.6: no version information available (required by bash)\n"
     ]
    },
    {
     "name": "stdout",
     "output_type": "stream",
     "text": [
      "[000000.00]  09-12 18:45  desipipe                  INFO     Pausing queue Queue(size=22, state=ACTIVE, filename=/home/adematti/Bureau/DESI/NERSC/cosmodesi/desipipe/nb/_tests/test.sqlite)\n",
      "[000000.00]  09-12 18:45  desipipe                  INFO     Matching queues:\n",
      "[000000.00]  09-12 18:45  desipipe                  INFO     Queue(size=22, state=PAUSED, filename=/home/adematti/Bureau/DESI/NERSC/cosmodesi/desipipe/nb/_tests/test.sqlite)\n",
      "WAITING   : 0\n",
      "PENDING   : 0\n",
      "RUNNING   : 0\n",
      "SUCCEEDED : 22\n",
      "FAILED    : 0\n",
      "KILLED    : 0\n",
      "UNKNOWN   : 0\n"
     ]
    }
   ],
   "source": [
    "%%bash\n",
    "desipipe pause -q ./_tests/test\n",
    "desipipe queues -q './_tests/*'  # state is now PAUSED"
   ]
  },
  {
   "cell_type": "markdown",
   "id": "305e8560",
   "metadata": {},
   "source": [
    "### Resume a queue\n",
    "When resuming a queue, tasks can be processed."
   ]
  },
  {
   "cell_type": "code",
   "execution_count": 8,
   "id": "ba25178f",
   "metadata": {},
   "outputs": [
    {
     "name": "stderr",
     "output_type": "stream",
     "text": [
      "bash: /home/adematti/anaconda3/envs/cosmodesi-main/lib/libtinfo.so.6: no version information available (required by bash)\n"
     ]
    },
    {
     "name": "stdout",
     "output_type": "stream",
     "text": [
      "[000000.00]  09-12 18:45  desipipe                  INFO     Resuming queue Queue(size=22, state=PAUSED, filename=/home/adematti/Bureau/DESI/NERSC/cosmodesi/desipipe/nb/_tests/test.sqlite)\n",
      "[000000.00]  09-12 18:45  desipipe                  INFO     Matching queues:\n",
      "[000000.00]  09-12 18:45  desipipe                  INFO     Queue(size=22, state=ACTIVE, filename=/home/adematti/Bureau/DESI/NERSC/cosmodesi/desipipe/nb/_tests/test.sqlite)\n",
      "WAITING   : 0\n",
      "PENDING   : 0\n",
      "RUNNING   : 0\n",
      "SUCCEEDED : 22\n",
      "FAILED    : 0\n",
      "KILLED    : 0\n",
      "UNKNOWN   : 0\n"
     ]
    }
   ],
   "source": [
    "%%bash\n",
    "desipipe resume -q ./_tests/test  # pass --spawn to spawn a manager process that will distribute the tasks among workers\n",
    "desipipe queues -q './_tests/*'  # state is now ACTIVE"
   ]
  },
  {
   "cell_type": "markdown",
   "id": "f8703937",
   "metadata": {},
   "source": [
    "### Retry tasks\n",
    "Change task state to PENDING."
   ]
  },
  {
   "cell_type": "code",
   "execution_count": 9,
   "id": "93d90c1c",
   "metadata": {},
   "outputs": [
    {
     "name": "stderr",
     "output_type": "stream",
     "text": [
      "bash: /home/adematti/anaconda3/envs/cosmodesi-main/lib/libtinfo.so.6: no version information available (required by bash)\n"
     ]
    },
    {
     "name": "stdout",
     "output_type": "stream",
     "text": [
      "[000000.00]  09-12 18:45  desipipe                  INFO     Matching queues:\n",
      "[000000.00]  09-12 18:45  desipipe                  INFO     Queue(size=22, state=ACTIVE, filename=/home/adematti/Bureau/DESI/NERSC/cosmodesi/desipipe/nb/_tests/test.sqlite)\n",
      "WAITING   : 0\n",
      "PENDING   : 22\n",
      "RUNNING   : 0\n",
      "SUCCEEDED : 0\n",
      "FAILED    : 0\n",
      "KILLED    : 0\n",
      "UNKNOWN   : 0\n"
     ]
    }
   ],
   "source": [
    "%%bash\n",
    "desipipe retry -q ./_tests/test --state SUCCEEDED\n",
    "desipipe queues -q './_tests/*'  # task state is now PENDING"
   ]
  },
  {
   "cell_type": "markdown",
   "id": "163bdb5a",
   "metadata": {},
   "source": [
    "### Spawn a manager process\n",
    "Spawn a manager process that will distribute the tasks among workers, using the scheduler and provider defined above."
   ]
  },
  {
   "cell_type": "code",
   "execution_count": 10,
   "id": "0761f1d2",
   "metadata": {},
   "outputs": [
    {
     "name": "stderr",
     "output_type": "stream",
     "text": [
      "bash: /home/adematti/anaconda3/envs/cosmodesi-main/lib/libtinfo.so.6: no version information available (required by bash)\n"
     ]
    },
    {
     "name": "stdout",
     "output_type": "stream",
     "text": [
      "bash app says pi is ~ 3.147\n",
      "[000000.00]  09-12 18:45  desipipe                  INFO     Matching queues:\n",
      "[000000.00]  09-12 18:45  desipipe                  INFO     Queue(size=22, state=ACTIVE, filename=/home/adematti/Bureau/DESI/NERSC/cosmodesi/desipipe/nb/_tests/test.sqlite)\n",
      "WAITING   : 0\n",
      "PENDING   : 0\n",
      "RUNNING   : 4\n",
      "SUCCEEDED : 18\n",
      "FAILED    : 0\n",
      "KILLED    : 0\n",
      "UNKNOWN   : 0\n"
     ]
    }
   ],
   "source": [
    "%%bash\n",
    "desipipe spawn -q ./_tests/test  # pass --spawn to spawn an independent process, and exit this one\n",
    "desipipe queues -q './_tests/*'  # tasks have been reprocessed: SUCCEEDED"
   ]
  },
  {
   "cell_type": "markdown",
   "id": "43917f16",
   "metadata": {},
   "source": [
    "### Kill running tasks\n",
    "Kill running tasks of a given queue."
   ]
  },
  {
   "cell_type": "code",
   "execution_count": 11,
   "id": "801e91db",
   "metadata": {},
   "outputs": [
    {
     "name": "stderr",
     "output_type": "stream",
     "text": [
      "bash: /home/adematti/anaconda3/envs/cosmodesi-main/lib/libtinfo.so.6: no version information available (required by bash)\n"
     ]
    }
   ],
   "source": [
    "%%bash\n",
    "desipipe kill -q ./_tests/test"
   ]
  },
  {
   "cell_type": "markdown",
   "id": "eb879a3e",
   "metadata": {},
   "source": [
    "### Delete queue(s)"
   ]
  },
  {
   "cell_type": "code",
   "execution_count": 12,
   "id": "8f5bce2b",
   "metadata": {},
   "outputs": [
    {
     "name": "stderr",
     "output_type": "stream",
     "text": [
      "bash: /home/adematti/anaconda3/envs/cosmodesi-main/lib/libtinfo.so.6: no version information available (required by bash)\n"
     ]
    },
    {
     "name": "stdout",
     "output_type": "stream",
     "text": [
      "[000000.00]  09-12 18:45  desipipe                  INFO     I will delete these queues:\n",
      "[000000.00]  09-12 18:45  desipipe                  INFO     Queue(size=22, state=ACTIVE, filename=/home/adematti/Bureau/DESI/NERSC/cosmodesi/desipipe/nb/_tests/test.sqlite)\n",
      "WAITING   : 0\n",
      "PENDING   : 0\n",
      "RUNNING   : 0\n",
      "SUCCEEDED : 22\n",
      "FAILED    : 0\n",
      "KILLED    : 0\n",
      "UNKNOWN   : 0\n",
      "[000000.00]  09-12 18:45  desipipe                  WARNING  --force is not set. To actually delete the queues, pass --force\n"
     ]
    }
   ],
   "source": [
    "%%bash\n",
    "desipipe delete -q './_tests/*'  # pass --force to actually delete the queue"
   ]
  },
  {
   "cell_type": "markdown",
   "id": "c71f8a3e",
   "metadata": {},
   "source": [
    "## File manager\n",
    "The file manager aimes at keeping track of files (of all kinds) produced in the processing."
   ]
  },
  {
   "cell_type": "code",
   "execution_count": 13,
   "id": "dbc80ce6",
   "metadata": {},
   "outputs": [
    {
     "name": "stdout",
     "output_type": "stream",
     "text": [
      "Overwriting _tests/files.yaml\n"
     ]
    }
   ],
   "source": [
    "%%file '_tests/files.yaml'\n",
    "\n",
    "description: Some text file\n",
    "id: my_input_file\n",
    "filetype: text\n",
    "path: ${SOMEDIR}/in_{option1}_{i:d}.txt\n",
    "author: Chuck Norris\n",
    "options:\n",
    "  option1: ['a', 'b']\n",
    "  i: range(0, 3, 1)"
   ]
  },
  {
   "cell_type": "code",
   "execution_count": 14,
   "id": "b2210907",
   "metadata": {},
   "outputs": [
    {
     "name": "stdout",
     "output_type": "stream",
     "text": [
      "BaseFile(\n",
      "filetype: text,\n",
      "id: my_input_file,\n",
      "author: Chuck Norris,\n",
      "options: {'option1': 'a', 'i': 0},\n",
      "description: Some text file,\n",
      "filepath: _tests/in_a_0.txt\n",
      ")\n",
      "BaseFile(\n",
      "filetype: text,\n",
      "id: my_input_file,\n",
      "author: Chuck Norris,\n",
      "options: {'option1': 'a', 'i': 1},\n",
      "description: Some text file,\n",
      "filepath: _tests/in_a_1.txt\n",
      ")\n",
      "BaseFile(\n",
      "filetype: text,\n",
      "id: my_input_file,\n",
      "author: Chuck Norris,\n",
      "options: {'option1': 'a', 'i': 2},\n",
      "description: Some text file,\n",
      "filepath: _tests/in_a_2.txt\n",
      ")\n"
     ]
    }
   ],
   "source": [
    "fm = FileManager('_tests/files.yaml', environ=dict(SOMEDIR='_tests'))\n",
    "# To select files\n",
    "fm2 = fm.select(keywords='text file', option1=['a'])\n",
    "# Iterate over files\n",
    "for fi in fm2:\n",
    "    print(fi)\n",
    "    # Write text\n",
    "    fi.write('hello world!')"
   ]
  },
  {
   "cell_type": "code",
   "execution_count": 15,
   "id": "76983469",
   "metadata": {},
   "outputs": [
    {
     "name": "stdout",
     "output_type": "stream",
     "text": [
      "/bin/bash: /home/adematti/anaconda3/envs/cosmodesi-main/lib/libtinfo.so.6: no version information available (required by /bin/bash)\r\n",
      "author: Chuck Norris\r\n",
      "description: Some text file\r\n",
      "filetype: text\r\n",
      "id: my_input_file\r\n",
      "options:\r\n",
      "  i: range(0, 3)\r\n",
      "  option1: [a, b]\r\n",
      "path: ${SOMEDIR}/in_{option1}_{i:d}.txt\r\n",
      "---\r\n",
      "author: Chuck Norris\r\n",
      "description: Some text file\r\n",
      "filetype: text\r\n",
      "id: my_output_file\r\n",
      "options:\r\n",
      "  i: range(0, 3)\r\n",
      "  option1: [a, b]\r\n",
      "path: ${SOMEDIR}/out_{option1}_{i:d}.txt\r\n"
     ]
    }
   ],
   "source": [
    "# To add a new entry\n",
    "fm.append(dict(description='added file', id='added_file', filetype='catalog', path='test.fits'))\n",
    "# To delete an entry\n",
    "del fm[-1]\n",
    "# To add a cloned entry\n",
    "fm.append(fm[0].clone(id='my_output_file', path='${SOMEDIR}/out_{option1}_{i:d}.txt'))\n",
    "fm.write('_tests/files.yaml')\n",
    "# Display new file data base\n",
    "!cat '_tests/files.yaml'"
   ]
  },
  {
   "cell_type": "markdown",
   "id": "606c3e2f",
   "metadata": {},
   "source": [
    "In practice, we will just edit the *.yaml* file directly."
   ]
  },
  {
   "cell_type": "code",
   "execution_count": 16,
   "id": "76993b27",
   "metadata": {},
   "outputs": [],
   "source": [
    "# Let's add a new task!\n",
    "@tm.python_app\n",
    "def copy(text_in, text_out):\n",
    "    import numpy as np  # just to illustrate that the package version is tracked\n",
    "    text = text_in.read()\n",
    "    text += ' this is my first message'\n",
    "    print('saving', text_out.filepath)\n",
    "    text_out.write(text)"
   ]
  },
  {
   "cell_type": "code",
   "execution_count": 17,
   "id": "f2a9993f",
   "metadata": {},
   "outputs": [
    {
     "name": "stdout",
     "output_type": "stream",
     "text": [
      "saving _tests/out_a_0.txt\n",
      "saving _tests/out_a_1.txt\n",
      "saving _tests/out_a_2.txt\n"
     ]
    }
   ],
   "source": [
    "# Iterate over files\n",
    "for fi in fm.select(option1=['a']):\n",
    "    copy(fi.get(id='my_input_file'), fi.get(id='my_output_file'))\n",
    "\n",
    "# Let's spawn a new process, as the previous one has finished (there was no work anymore!)\n",
    "from desipipe import spawn\n",
    "spawn(queue)"
   ]
  },
  {
   "cell_type": "code",
   "execution_count": 18,
   "id": "b9fc0d4f",
   "metadata": {},
   "outputs": [
    {
     "name": "stdout",
     "output_type": "stream",
     "text": [
      "/bin/bash: /home/adematti/anaconda3/envs/cosmodesi-main/lib/libtinfo.so.6: no version information available (required by /bin/bash)\r\n",
      ".   .desipipe\tin_a_0.txt  in_a_2.txt\t out_a_1.txt  test.sqlite\r\n",
      "..  files.yaml\tin_a_1.txt  out_a_0.txt  out_a_2.txt\r\n"
     ]
    }
   ],
   "source": [
    "!ls -a _tests/"
   ]
  },
  {
   "cell_type": "code",
   "execution_count": 19,
   "id": "d01289db",
   "metadata": {},
   "outputs": [
    {
     "name": "stdout",
     "output_type": "stream",
     "text": [
      "/bin/bash: /home/adematti/anaconda3/envs/cosmodesi-main/lib/libtinfo.so.6: no version information available (required by /bin/bash)\r\n",
      "hello world! this is my first message"
     ]
    }
   ],
   "source": [
    "!cat _tests/out_a_0.txt"
   ]
  },
  {
   "cell_type": "code",
   "execution_count": 20,
   "id": "466d3b33",
   "metadata": {},
   "outputs": [
    {
     "name": "stdout",
     "output_type": "stream",
     "text": [
      "/bin/bash: /home/adematti/anaconda3/envs/cosmodesi-main/lib/libtinfo.so.6: no version information available (required by /bin/bash)\n",
      ".  ..  copy.py\tcopy.versions\n",
      "\n",
      "*.py file is:\n",
      "/bin/bash: /home/adematti/anaconda3/envs/cosmodesi-main/lib/libtinfo.so.6: no version information available (required by /bin/bash)\n",
      "def copy(text_in, text_out):\n",
      "    import numpy as np  # just to illustrate that the package version is tracked\n",
      "    text = text_in.read()\n",
      "    text += ' this is my first message'\n",
      "    print('saving', text_out.filepath)\n",
      "    text_out.write(text)\n",
      "\n",
      "*.versions file is:\n",
      "/bin/bash: /home/adematti/anaconda3/envs/cosmodesi-main/lib/libtinfo.so.6: no version information available (required by /bin/bash)\n",
      "ctypes=1.1.0\n",
      "json=2.0.9\n",
      "numpy=1.22.3\n",
      "mpi4py=3.1.4\n"
     ]
    }
   ],
   "source": [
    "# This is where desipipe processing information is saved\n",
    "!ls -a _tests/.desipipe\n",
    "print('\\n*.py file is:')\n",
    "!cat _tests/.desipipe/copy.py\n",
    "print('\\n*.versions file is:')\n",
    "!cat _tests/.desipipe/copy.versions"
   ]
  },
  {
   "cell_type": "code",
   "execution_count": 21,
   "id": "b47388b8",
   "metadata": {},
   "outputs": [],
   "source": [
    "# Delete queue\n",
    "queue.delete()"
   ]
  }
 ],
 "metadata": {
  "kernelspec": {
   "display_name": "cosmodesi-main",
   "language": "python",
   "name": "cosmodesi-main"
  },
  "language_info": {
   "codemirror_mode": {
    "name": "ipython",
    "version": 3
   },
   "file_extension": ".py",
   "mimetype": "text/x-python",
   "name": "python",
   "nbconvert_exporter": "python",
   "pygments_lexer": "ipython3",
   "version": "3.10.12"
  }
 },
 "nbformat": 4,
 "nbformat_minor": 5
}
