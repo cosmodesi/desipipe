{
 "cells": [
  {
   "cell_type": "markdown",
   "id": "07bf9c1e",
   "metadata": {},
   "source": [
    "# Basic examples\n",
    "In this notebook we will show how to write a basic pipeline, in the **desipipe** framework. You need to have installed **desipipe** with:\n",
    "```\n",
    "python -m pip install git+https://github.com/cosmodesi/desipipe#egg=desipipe\n",
    "```\n",
    "You can also take a look at https://desipipe.readthedocs.io/en/latest/user/getting_started.html."
   ]
  },
  {
   "cell_type": "markdown",
   "id": "37ce0568",
   "metadata": {},
   "source": [
    "## Task manager\n",
    "Let's consider a simple example: the Monte-Carlo estimation of $\\pi$."
   ]
  },
  {
   "cell_type": "code",
   "execution_count": 1,
   "id": "76bf7092",
   "metadata": {},
   "outputs": [
    {
     "name": "stdout",
     "output_type": "stream",
     "text": [
      "Elapsed time: 0.7867\n"
     ]
    }
   ],
   "source": [
    "import time\n",
    "\n",
    "from desipipe import Queue, Environment, TaskManager, FileManager, spawn\n",
    "\n",
    "# Let's instantiate a Queue, which records all tasks to be performed\n",
    "queue = Queue('test', base_dir='_tests')\n",
    "queue.clear()\n",
    "# Pool of 4 workers\n",
    "# Any environment variable can be passed to Environment: it will be set when running the tasks below\n",
    "tm = TaskManager(queue, environ=Environment(), scheduler=dict(max_workers=4))\n",
    "\n",
    "def draw_random_numbers(size):\n",
    "    import numpy as np\n",
    "    return np.random.uniform(-1, 1, size)\n",
    "\n",
    "# We decorate the function (task) with tm.python_app\n",
    "@tm.python_app\n",
    "def fraction(seed=42, size=10000, draw_random_numbers=draw_random_numbers):\n",
    "    # All definitions, except input parameters, must be in the function itself, or in its arguments\n",
    "    # and this, recursively:\n",
    "    # draw_random_numbers is defined above and all definitions, except input parameters, are in the function itself\n",
    "    # This is required for the tasks to be pickelable (~ can be converted to bytes)\n",
    "    import time\n",
    "    import numpy as np\n",
    "    time.sleep(5)  # wait 5 seconds, just to show jobs are indeed run in parallel\n",
    "    x, y = draw_random_numbers(size), draw_random_numbers(size)\n",
    "    return np.sum((x**2 + y**2) < 1.) * 1. / size  # fraction of points in the inner circle of radius 1\n",
    "\n",
    "# Here we use another task manager, with only 1 worker\n",
    "tm2 = tm.clone(scheduler=dict(max_workers=1))\n",
    "@tm2.python_app\n",
    "def average(fractions):\n",
    "    import numpy as np\n",
    "    return np.average(fractions) * 4.\n",
    "\n",
    "# Let's add another task, to be run with bash\n",
    "@tm2.bash_app\n",
    "def echo(avg):\n",
    "    return ['echo', '-n', 'bash app says pi is ~ {:.4f}'.format(avg)]\n",
    "\n",
    "t0 = time.time()\n",
    "# The following line stacks all the tasks in the queue\n",
    "fractions = [fraction(seed=i) for i in range(20)]\n",
    "# fractions is a list of Future instances\n",
    "# We can pass them to other tasks, which creates a dependency graph\n",
    "avg = average(fractions)\n",
    "ech = echo(avg)\n",
    "print('Elapsed time: {:.4f}'.format(time.time() - t0))"
   ]
  },
  {
   "cell_type": "markdown",
   "id": "545d1a38",
   "metadata": {},
   "source": [
    "The cell above stacks all tasks in the queue. ``fraction`` tasks will be 'PENDING' (waiting to be run),\n",
    "while ``average`` tasks will be 'WAITING' for the former to complete. ``echo`` also depends on ``average``.\n",
    "Running the script above will write a queue on disk, with name 'test', in the directory ``_tests``\n",
    "(by default, it is ``${HOME}/.desipipe/queues/${USERNAME}/``).\n",
    "\n",
    "Now, we can spawn a manager process that will run the above tasks, following the specifications of the task managers."
   ]
  },
  {
   "cell_type": "code",
   "execution_count": 2,
   "id": "1070f93f",
   "metadata": {},
   "outputs": [],
   "source": [
    "# Spawn a process that will distribute the tasks over workers\n",
    "spawn(queue)\n",
    "# Alternatively, with the command line (see below):\n",
    "# desipipe spawn -q ./_tests/test --spawn"
   ]
  },
  {
   "cell_type": "code",
   "execution_count": 3,
   "id": "d60f9d87",
   "metadata": {},
   "outputs": [
    {
     "name": "stdout",
     "output_type": "stream",
     "text": [
      "bash app says pi is ~ 3.1427\n",
      "pi is ~ 3.1427\n",
      "Elapsed time: 21.5\n"
     ]
    }
   ],
   "source": [
    "# result() returns the result of the function, which can take some time to complete\n",
    "# in this case, ~ 20 tasks which take 5 seconds distributed over 4 processes: typically 25 seconds\n",
    "print(ech.out())\n",
    "print('pi is ~ {:.4f}'.format(avg.result()))\n",
    "print('Elapsed time: {:.1f}'.format(time.time() - t0))"
   ]
  },
  {
   "cell_type": "markdown",
   "id": "0ecfb5fa",
   "metadata": {},
   "source": [
    "## Tips\n",
    "If you re-execute the two above cells, the cached result is immediately returned.\n",
    "If you modify e.g. ``fraction``, a new result (including ``average``) will be computed.\n",
    "If you modify ``average``, only ``average`` will be computed again.\n",
    "To change this default behavior and *not recompute* average, you can pass ``skip=True`` (skip this app no matter what) or ``name=True`` (or the original app name)."
   ]
  },
  {
   "cell_type": "code",
   "execution_count": 4,
   "id": "be9d89b9",
   "metadata": {},
   "outputs": [
    {
     "name": "stdout",
     "output_type": "stream",
     "text": [
      "bash app says pi is ~ 3.1427\n"
     ]
    }
   ],
   "source": [
    "@tm2.bash_app(skip=True)  # no computation scheduled, just returns None\n",
    "def echo2(avg):\n",
    "    return 42\n",
    "\n",
    "assert echo2(avg) is None\n",
    "\n",
    "@tm2.bash_app(name=True)\n",
    "def fraction():\n",
    "    return None\n",
    "\n",
    "for frac in fractions:\n",
    "    assert fraction().result() == frac.result()  # the previous fraction result is used\n",
    "\n",
    "@tm2.bash_app(name='echo')\n",
    "def echo2(avg):\n",
    "    return 42\n",
    "\n",
    "print(echo2().out())  # the same as echo().out()"
   ]
  },
  {
   "cell_type": "markdown",
   "id": "710fa9c5",
   "metadata": {},
   "source": [
    "Now, let's imagine some tasks have failed, and you want to rerun them (and only them), after changing the code. Let's examplify with some FAILED tasks:"
   ]
  },
  {
   "cell_type": "code",
   "execution_count": 5,
   "id": "ea59746e",
   "metadata": {},
   "outputs": [
    {
     "name": "stdout",
     "output_type": "stream",
     "text": [
      "['', '']\n",
      "['Traceback (most recent call last):\\n  File \"/home/adematti/Bureau/DESI/NERSC/cosmodesi/desipipe/desipipe/task_manager.py\", line 1426, in run\\n    result = self._run(**kwargs)\\n  File \"/home/adematti/Bureau/DESI/NERSC/cosmodesi/desipipe/desipipe/task_manager.py\", line 1347, in _run\\n    return self.func(*args, **kw)\\n  File \"<string>\", line 3, in test_error\\nValueError: 2\\n', 'Traceback (most recent call last):\\n  File \"/home/adematti/Bureau/DESI/NERSC/cosmodesi/desipipe/desipipe/task_manager.py\", line 1426, in run\\n    result = self._run(**kwargs)\\n  File \"/home/adematti/Bureau/DESI/NERSC/cosmodesi/desipipe/desipipe/task_manager.py\", line 1347, in _run\\n    return self.func(*args, **kw)\\n  File \"<string>\", line 3, in test_error\\nValueError: 3\\n']\n"
     ]
    }
   ],
   "source": [
    "@tm2.python_app\n",
    "def test_error(i):\n",
    "    if i >= 2:\n",
    "        raise ValueError(str(i))\n",
    "    else:\n",
    "        return i\n",
    "\n",
    "errors = [test_error(i) for i in range(4)]  # list of tasks\n",
    "spawn(queue)  # run the task in spawned processes\n",
    "errors = [error.err() for error in errors]  # let's get the err output\n",
    "# No error for the first 2 (i < 2)\n",
    "print(errors[:2])\n",
    "# ValueError for the others (i > 2)\n",
    "print(errors[2:])"
   ]
  },
  {
   "cell_type": "markdown",
   "id": "bb4e900f",
   "metadata": {},
   "source": [
    "We notice that we made a (here, artificial) mistake in the code, so we do:"
   ]
  },
  {
   "cell_type": "code",
   "execution_count": 6,
   "id": "d012a8db",
   "metadata": {},
   "outputs": [
    {
     "name": "stdout",
     "output_type": "stream",
     "text": [
      "[0, 1, 12, 13]\n"
     ]
    }
   ],
   "source": [
    "@tm2.python_app(name=True, state='SUCCEEDED')  # SUCCEEDED tasks, with this name ('test_error') are not rerun\n",
    "def test_error(i):\n",
    "    return i + 10  # let's add 10 to distinguish them from the previous run\n",
    "\n",
    "errors = [test_error(i) for i in range(4)]  # list of tasks\n",
    "spawn(queue)  # run the task in spawned processes\n",
    "errors = [error.result() for error in errors]  # let's get the result\n",
    "print(errors)"
   ]
  },
  {
   "cell_type": "markdown",
   "id": "7d6ea7ab",
   "metadata": {},
   "source": [
    "The first two tasks are not rerun (they were 'SUCCEEDED'), giving 0 and 1. The other tasks (previously 'FAILED') have been rerun with the new code, giving 12 and 13."
   ]
  },
  {
   "cell_type": "markdown",
   "id": "d6fdd149",
   "metadata": {},
   "source": [
    "Note that one can incrementally build the script: previous tasks will not be rerun if they have not changed.\n",
    "One can interact with ``queue`` from python directly, e.g.: ``queue.tasks()`` to list tasks, ``queue.pause()`` to pause the queue, ``queue.resume()`` to resume the queue, etc.\n",
    "Usually though, one will use the command line: see below."
   ]
  },
  {
   "cell_type": "markdown",
   "id": "8a74179d",
   "metadata": {},
   "source": [
    "## Command line\n",
    "We provide a number of command line instructions to interact with queues: list queues, tasks in a queue, pause or resume a queue.\n",
    "There are many options! To get help, e.g.: ``desipipe kill --help``."
   ]
  },
  {
   "cell_type": "markdown",
   "id": "cff21bc7",
   "metadata": {},
   "source": [
    "### Print queues\n",
    "Print the list of all your queues."
   ]
  },
  {
   "cell_type": "code",
   "execution_count": 7,
   "id": "6b5cdd34",
   "metadata": {},
   "outputs": [
    {
     "name": "stderr",
     "output_type": "stream",
     "text": [
      "bash: /home/adematti/anaconda3/envs/cosmodesi-main/lib/libtinfo.so.6: no version information available (required by bash)\n"
     ]
    },
    {
     "name": "stdout",
     "output_type": "stream",
     "text": [
      "[000000.28]  12-06 19:30  desipipe                  INFO     Matching queues:\n",
      "[000000.28]  12-06 19:30  desipipe                  INFO     Queue(size=28, state=ACTIVE, filename=/local/home/adematti/Bureau/DESI/NERSC/cosmodesi/desipipe/nb/_tests/test.sqlite)\n",
      "WAITING   : 0\n",
      "PENDING   : 0\n",
      "RUNNING   : 0\n",
      "SUCCEEDED : 26\n",
      "FAILED    : 2\n",
      "KILLED    : 0\n",
      "UNKNOWN   : 0\n"
     ]
    }
   ],
   "source": [
    "%%bash\n",
    "desipipe queues -q './_tests/*'"
   ]
  },
  {
   "cell_type": "markdown",
   "id": "99bbb7d3",
   "metadata": {},
   "source": [
    "### Print tasks in a queue\n",
    "\n",
    "Task state can be:\n",
    "\n",
    "  - 'WAITING': Waiting for requirements (other tasks) to finish.\n",
    "  - 'PENDING': Eligible to be selected and run.\n",
    "  - 'RUNNING': Running right now (out and err are updated live).\n",
    "  - 'SUCCEEDED': Finished with errno = 0. All good!\n",
    "  - 'FAILED': Finished with errno != 0. This means the code raised an exception.\n",
    "  - 'KILLED': Killed. Typically when the task has not had time to finish, because the requested amount of time (if any) was not sufficient. May be raised by out-of-memory as well.\n",
    "  - 'UNKNOWN': The task has been in 'RUNNING' state longer than the requested amount of time (if any) in the provider. This means that **desipipe** could not properly update the task state before the job was killed, typically because the job ran out-of-time. If you scheduled the requested time to be able to fit in multiple tasks, you may just want to retry running these tasks (see below).\n"
   ]
  },
  {
   "cell_type": "code",
   "execution_count": 8,
   "id": "77fc6839",
   "metadata": {},
   "outputs": [
    {
     "name": "stderr",
     "output_type": "stream",
     "text": [
      "bash: /home/adematti/anaconda3/envs/cosmodesi-main/lib/libtinfo.so.6: no version information available (required by bash)\n"
     ]
    },
    {
     "name": "stdout",
     "output_type": "stream",
     "text": [
      "[000000.34]  12-06 19:30  desipipe                  INFO     Tasks that are SUCCEEDED:\n",
      "[000000.34]  12-06 19:30  desipipe                  INFO     app: fraction\n",
      "[000000.34]  12-06 19:30  desipipe                  INFO     jobid: 2137825\n",
      "[000000.34]  12-06 19:30  desipipe                  INFO     ==============================\n",
      "[000000.34]  12-06 19:30  desipipe                  INFO     app: fraction\n",
      "[000000.34]  12-06 19:30  desipipe                  INFO     jobid: 2137827\n",
      "[000000.34]  12-06 19:30  desipipe                  INFO     ==============================\n",
      "[000000.34]  12-06 19:30  desipipe                  INFO     app: fraction\n",
      "[000000.34]  12-06 19:30  desipipe                  INFO     jobid: 2137828\n",
      "[000000.34]  12-06 19:30  desipipe                  INFO     ==============================\n",
      "[000000.34]  12-06 19:30  desipipe                  INFO     app: fraction\n",
      "[000000.34]  12-06 19:30  desipipe                  INFO     jobid: 2137826\n",
      "[000000.34]  12-06 19:30  desipipe                  INFO     ==============================\n",
      "[000000.34]  12-06 19:30  desipipe                  INFO     app: fraction\n",
      "[000000.34]  12-06 19:30  desipipe                  INFO     jobid: 2137885\n",
      "[000000.34]  12-06 19:30  desipipe                  INFO     ==============================\n",
      "[000000.34]  12-06 19:30  desipipe                  INFO     app: fraction\n",
      "[000000.34]  12-06 19:30  desipipe                  INFO     jobid: 2137883\n",
      "[000000.34]  12-06 19:30  desipipe                  INFO     ==============================\n",
      "[000000.34]  12-06 19:30  desipipe                  INFO     app: fraction\n",
      "[000000.34]  12-06 19:30  desipipe                  INFO     jobid: 2137884\n",
      "[000000.34]  12-06 19:30  desipipe                  INFO     ==============================\n",
      "[000000.34]  12-06 19:30  desipipe                  INFO     app: fraction\n",
      "[000000.34]  12-06 19:30  desipipe                  INFO     jobid: 2137882\n",
      "[000000.34]  12-06 19:30  desipipe                  INFO     ==============================\n",
      "[000000.34]  12-06 19:30  desipipe                  INFO     app: fraction\n",
      "[000000.34]  12-06 19:30  desipipe                  INFO     jobid: 2137939\n",
      "[000000.34]  12-06 19:30  desipipe                  INFO     ==============================\n",
      "[000000.34]  12-06 19:30  desipipe                  INFO     app: fraction\n",
      "[000000.34]  12-06 19:30  desipipe                  INFO     jobid: 2137940\n",
      "[000000.34]  12-06 19:30  desipipe                  INFO     ==============================\n",
      "[000000.34]  12-06 19:30  desipipe                  INFO     app: fraction\n",
      "[000000.34]  12-06 19:30  desipipe                  INFO     jobid: 2137941\n",
      "[000000.34]  12-06 19:30  desipipe                  INFO     ==============================\n",
      "[000000.34]  12-06 19:30  desipipe                  INFO     app: fraction\n",
      "[000000.34]  12-06 19:30  desipipe                  INFO     jobid: 2137942\n",
      "[000000.34]  12-06 19:30  desipipe                  INFO     ==============================\n",
      "[000000.34]  12-06 19:30  desipipe                  INFO     app: fraction\n",
      "[000000.34]  12-06 19:30  desipipe                  INFO     jobid: 2137825\n",
      "[000000.34]  12-06 19:30  desipipe                  INFO     ==============================\n",
      "[000000.34]  12-06 19:30  desipipe                  INFO     app: fraction\n",
      "[000000.34]  12-06 19:30  desipipe                  INFO     jobid: 2137827\n",
      "[000000.34]  12-06 19:30  desipipe                  INFO     ==============================\n",
      "[000000.34]  12-06 19:30  desipipe                  INFO     app: fraction\n",
      "[000000.34]  12-06 19:30  desipipe                  INFO     jobid: 2137828\n",
      "[000000.34]  12-06 19:30  desipipe                  INFO     ==============================\n",
      "[000000.34]  12-06 19:30  desipipe                  INFO     app: fraction\n",
      "[000000.34]  12-06 19:30  desipipe                  INFO     jobid: 2137826\n",
      "[000000.34]  12-06 19:30  desipipe                  INFO     ==============================\n",
      "[000000.34]  12-06 19:30  desipipe                  INFO     app: fraction\n",
      "[000000.34]  12-06 19:30  desipipe                  INFO     jobid: 2137885\n",
      "[000000.34]  12-06 19:30  desipipe                  INFO     ==============================\n",
      "[000000.34]  12-06 19:30  desipipe                  INFO     app: fraction\n",
      "[000000.34]  12-06 19:30  desipipe                  INFO     jobid: 2137883\n",
      "[000000.34]  12-06 19:30  desipipe                  INFO     ==============================\n",
      "[000000.34]  12-06 19:30  desipipe                  INFO     app: fraction\n",
      "[000000.34]  12-06 19:30  desipipe                  INFO     jobid: 2137884\n",
      "[000000.34]  12-06 19:30  desipipe                  INFO     ==============================\n",
      "[000000.34]  12-06 19:30  desipipe                  INFO     app: fraction\n",
      "[000000.34]  12-06 19:30  desipipe                  INFO     jobid: 2137882\n",
      "[000000.34]  12-06 19:30  desipipe                  INFO     ==============================\n",
      "[000000.34]  12-06 19:30  desipipe                  INFO     app: average\n",
      "[000000.34]  12-06 19:30  desipipe                  INFO     jobid: 2138034\n",
      "[000000.34]  12-06 19:30  desipipe                  INFO     ==============================\n",
      "[000000.34]  12-06 19:30  desipipe                  INFO     app: echo\n",
      "[000000.34]  12-06 19:30  desipipe                  INFO     jobid: 2138034\n",
      "[000000.34]  12-06 19:30  desipipe                  INFO     out: bash app says pi is ~ 3.1427\n",
      "[000000.34]  12-06 19:30  desipipe                  INFO     ==============================\n",
      "[000000.34]  12-06 19:30  desipipe                  INFO     app: test_error\n",
      "[000000.34]  12-06 19:30  desipipe                  INFO     jobid: 2138105\n",
      "[000000.34]  12-06 19:30  desipipe                  INFO     ==============================\n",
      "[000000.34]  12-06 19:30  desipipe                  INFO     app: test_error\n",
      "[000000.34]  12-06 19:30  desipipe                  INFO     jobid: 2138105\n",
      "[000000.34]  12-06 19:30  desipipe                  INFO     ==============================\n",
      "[000000.34]  12-06 19:30  desipipe                  INFO     app: test_error\n",
      "[000000.34]  12-06 19:30  desipipe                  INFO     jobid: 2138171\n",
      "[000000.34]  12-06 19:30  desipipe                  INFO     ==============================\n",
      "[000000.34]  12-06 19:30  desipipe                  INFO     app: test_error\n",
      "[000000.34]  12-06 19:30  desipipe                  INFO     jobid: 2138171\n",
      "[000000.34]  12-06 19:30  desipipe                  INFO     ==============================\n",
      "[000000.34]  12-06 19:30  desipipe                  INFO     Tasks that are FAILED:\n",
      "[000000.34]  12-06 19:30  desipipe                  INFO     app: test_error\n",
      "[000000.34]  12-06 19:30  desipipe                  INFO     jobid: 2138105\n",
      "[000000.34]  12-06 19:30  desipipe                  INFO     errno: 42\n",
      "[000000.34]  12-06 19:30  desipipe                  INFO     err: Traceback (most recent call last):\n",
      "  File \"/home/adematti/Bureau/DESI/NERSC/cosmodesi/desipipe/desipipe/task_manager.py\", line 1426, in run\n",
      "    result = self._run(**kwargs)\n",
      "  File \"/home/adematti/Bureau/DESI/NERSC/cosmodesi/desipipe/desipipe/task_manager.py\", line 1347, in _run\n",
      "    return self.func(*args, **kw)\n",
      "  File \"<string>\", line 3, in test_error\n",
      "ValueError: 2\n",
      "\n",
      "[000000.34]  12-06 19:30  desipipe                  INFO     ==============================\n",
      "[000000.34]  12-06 19:30  desipipe                  INFO     app: test_error\n",
      "[000000.34]  12-06 19:30  desipipe                  INFO     jobid: 2138105\n",
      "[000000.34]  12-06 19:30  desipipe                  INFO     errno: 42\n",
      "[000000.34]  12-06 19:30  desipipe                  INFO     err: Traceback (most recent call last):\n",
      "  File \"/home/adematti/Bureau/DESI/NERSC/cosmodesi/desipipe/desipipe/task_manager.py\", line 1426, in run\n",
      "    result = self._run(**kwargs)\n",
      "  File \"/home/adematti/Bureau/DESI/NERSC/cosmodesi/desipipe/desipipe/task_manager.py\", line 1347, in _run\n",
      "    return self.func(*args, **kw)\n",
      "  File \"<string>\", line 3, in test_error\n",
      "ValueError: 3\n",
      "\n",
      "[000000.34]  12-06 19:30  desipipe                  INFO     ==============================\n"
     ]
    }
   ],
   "source": [
    "%%bash\n",
    "desipipe tasks -q ./_tests/test"
   ]
  },
  {
   "cell_type": "markdown",
   "id": "d4671e3b",
   "metadata": {},
   "source": [
    "### Pause a queue\n",
    "When pausing a queue, all processes running tasks from this queue will stop (after they finish their current task)."
   ]
  },
  {
   "cell_type": "code",
   "execution_count": 9,
   "id": "8948e387",
   "metadata": {},
   "outputs": [
    {
     "name": "stderr",
     "output_type": "stream",
     "text": [
      "bash: /home/adematti/anaconda3/envs/cosmodesi-main/lib/libtinfo.so.6: no version information available (required by bash)\n"
     ]
    },
    {
     "name": "stdout",
     "output_type": "stream",
     "text": [
      "[000000.28]  12-06 19:30  desipipe                  INFO     Pausing queue Queue(size=28, state=ACTIVE, filename=/local/home/adematti/Bureau/DESI/NERSC/cosmodesi/desipipe/nb/_tests/test.sqlite)\n",
      "[000000.28]  12-06 19:30  desipipe                  INFO     Matching queues:\n",
      "[000000.28]  12-06 19:30  desipipe                  INFO     Queue(size=28, state=PAUSED, filename=/local/home/adematti/Bureau/DESI/NERSC/cosmodesi/desipipe/nb/_tests/test.sqlite)\n",
      "WAITING   : 0\n",
      "PENDING   : 0\n",
      "RUNNING   : 0\n",
      "SUCCEEDED : 26\n",
      "FAILED    : 2\n",
      "KILLED    : 0\n",
      "UNKNOWN   : 0\n"
     ]
    }
   ],
   "source": [
    "%%bash\n",
    "desipipe pause -q ./_tests/test\n",
    "desipipe queues -q './_tests/*'  # state is now PAUSED"
   ]
  },
  {
   "cell_type": "markdown",
   "id": "305e8560",
   "metadata": {},
   "source": [
    "### Resume a queue\n",
    "This is the opposite of ``pause``. When resuming a queue, tasks can get processed again (if a manager process is running)."
   ]
  },
  {
   "cell_type": "code",
   "execution_count": 10,
   "id": "ba25178f",
   "metadata": {},
   "outputs": [
    {
     "name": "stderr",
     "output_type": "stream",
     "text": [
      "bash: /home/adematti/anaconda3/envs/cosmodesi-main/lib/libtinfo.so.6: no version information available (required by bash)\n"
     ]
    },
    {
     "name": "stdout",
     "output_type": "stream",
     "text": [
      "[000000.28]  12-06 19:30  desipipe                  INFO     Resuming queue Queue(size=28, state=PAUSED, filename=/local/home/adematti/Bureau/DESI/NERSC/cosmodesi/desipipe/nb/_tests/test.sqlite)\n",
      "[000000.29]  12-06 19:30  desipipe                  INFO     Matching queues:\n",
      "[000000.29]  12-06 19:30  desipipe                  INFO     Queue(size=28, state=ACTIVE, filename=/local/home/adematti/Bureau/DESI/NERSC/cosmodesi/desipipe/nb/_tests/test.sqlite)\n",
      "WAITING   : 0\n",
      "PENDING   : 0\n",
      "RUNNING   : 0\n",
      "SUCCEEDED : 26\n",
      "FAILED    : 2\n",
      "KILLED    : 0\n",
      "UNKNOWN   : 0\n"
     ]
    }
   ],
   "source": [
    "%%bash\n",
    "desipipe resume -q ./_tests/test  # pass --spawn to spawn a manager process that will distribute the tasks among workers\n",
    "desipipe queues -q './_tests/*'  # state is now ACTIVE"
   ]
  },
  {
   "cell_type": "markdown",
   "id": "f8703937",
   "metadata": {},
   "source": [
    "### Retry tasks\n",
    "Tasks for which state is 'SUCCEEDED' (here for the example --- typically you will want to try again the 'KILLED' ones), and only those tasks, are changed to 'PENDING', i.e. they will be processed again."
   ]
  },
  {
   "cell_type": "code",
   "execution_count": 11,
   "id": "93d90c1c",
   "metadata": {},
   "outputs": [
    {
     "name": "stderr",
     "output_type": "stream",
     "text": [
      "bash: /home/adematti/anaconda3/envs/cosmodesi-main/lib/libtinfo.so.6: no version information available (required by bash)\n"
     ]
    },
    {
     "name": "stdout",
     "output_type": "stream",
     "text": [
      "[000000.28]  12-06 19:30  desipipe                  INFO     Matching queues:\n",
      "[000000.29]  12-06 19:30  desipipe                  INFO     Queue(size=28, state=ACTIVE, filename=/local/home/adematti/Bureau/DESI/NERSC/cosmodesi/desipipe/nb/_tests/test.sqlite)\n",
      "WAITING   : 0\n",
      "PENDING   : 26\n",
      "RUNNING   : 0\n",
      "SUCCEEDED : 0\n",
      "FAILED    : 2\n",
      "KILLED    : 0\n",
      "UNKNOWN   : 0\n"
     ]
    }
   ],
   "source": [
    "%%bash\n",
    "desipipe retry -q ./_tests/test --state SUCCEEDED\n",
    "desipipe queues -q './_tests/*'  # task state is now PENDING"
   ]
  },
  {
   "cell_type": "markdown",
   "id": "163bdb5a",
   "metadata": {},
   "source": [
    "### Spawn a manager process\n",
    "This command is the one to \"get the work job done\".\n",
    "Specifically, it spawns a manager process that distributes the tasks among workers."
   ]
  },
  {
   "cell_type": "code",
   "execution_count": 12,
   "id": "0761f1d2",
   "metadata": {},
   "outputs": [
    {
     "name": "stderr",
     "output_type": "stream",
     "text": [
      "bash: /home/adematti/anaconda3/envs/cosmodesi-main/lib/libtinfo.so.6: no version information available (required by bash)\n"
     ]
    },
    {
     "name": "stdout",
     "output_type": "stream",
     "text": [
      "[000000.28]  12-06 19:31  desipipe                  INFO     Matching queues:\n",
      "[000000.28]  12-06 19:31  desipipe                  INFO     Queue(size=28, state=ACTIVE, filename=/local/home/adematti/Bureau/DESI/NERSC/cosmodesi/desipipe/nb/_tests/test.sqlite)\n",
      "WAITING   : 0\n",
      "PENDING   : 0\n",
      "RUNNING   : 0\n",
      "SUCCEEDED : 26\n",
      "FAILED    : 2\n",
      "KILLED    : 0\n",
      "UNKNOWN   : 0\n"
     ]
    }
   ],
   "source": [
    "%%bash\n",
    "desipipe spawn -q ./_tests/test  # pass --spawn to spawn an independent process, and exit this one\n",
    "desipipe queues -q './_tests/*'  # tasks have been reprocessed: SUCCEEDED"
   ]
  },
  {
   "cell_type": "markdown",
   "id": "43917f16",
   "metadata": {},
   "source": [
    "### Kill running tasks\n",
    "Kills running tasks of the queue."
   ]
  },
  {
   "cell_type": "code",
   "execution_count": 13,
   "id": "801e91db",
   "metadata": {},
   "outputs": [
    {
     "name": "stderr",
     "output_type": "stream",
     "text": [
      "bash: /home/adematti/anaconda3/envs/cosmodesi-main/lib/libtinfo.so.6: no version information available (required by bash)\n"
     ]
    }
   ],
   "source": [
    "%%bash\n",
    "#desipipe kill -q ./_tests/test"
   ]
  },
  {
   "cell_type": "markdown",
   "id": "9c1249ba",
   "metadata": {},
   "source": [
    "Kills all processes related to this queue (including manager processes):"
   ]
  },
  {
   "cell_type": "code",
   "execution_count": 14,
   "id": "526e7f00",
   "metadata": {},
   "outputs": [
    {
     "name": "stderr",
     "output_type": "stream",
     "text": [
      "bash: /home/adematti/anaconda3/envs/cosmodesi-main/lib/libtinfo.so.6: no version information available (required by bash)\n"
     ]
    }
   ],
   "source": [
    "%%bash\n",
    "#desipipe kill -q ./_tests/test --all"
   ]
  },
  {
   "cell_type": "markdown",
   "id": "eb879a3e",
   "metadata": {},
   "source": [
    "### Delete queue(s)"
   ]
  },
  {
   "cell_type": "code",
   "execution_count": 15,
   "id": "8f5bce2b",
   "metadata": {},
   "outputs": [
    {
     "name": "stderr",
     "output_type": "stream",
     "text": [
      "bash: /home/adematti/anaconda3/envs/cosmodesi-main/lib/libtinfo.so.6: no version information available (required by bash)\n"
     ]
    },
    {
     "name": "stdout",
     "output_type": "stream",
     "text": [
      "[000000.28]  12-06 19:31  desipipe                  INFO     I will delete these queues:\n",
      "[000000.28]  12-06 19:31  desipipe                  INFO     Queue(size=28, state=ACTIVE, filename=/local/home/adematti/Bureau/DESI/NERSC/cosmodesi/desipipe/nb/_tests/test.sqlite)\n",
      "WAITING   : 0\n",
      "PENDING   : 0\n",
      "RUNNING   : 0\n",
      "SUCCEEDED : 26\n",
      "FAILED    : 2\n",
      "KILLED    : 0\n",
      "UNKNOWN   : 0\n",
      "[000000.28]  12-06 19:31  desipipe                  WARNING  --force is not set. To actually delete the queues, pass --force\n"
     ]
    }
   ],
   "source": [
    "%%bash\n",
    "desipipe delete -q './_tests/*'  # pass --force to actually delete the queue"
   ]
  },
  {
   "cell_type": "markdown",
   "id": "31a356a1",
   "metadata": {},
   "source": [
    "## Troubleshooting\n",
    "\n",
    "For discussion about troubleshooting, look at https://desipipe.readthedocs.io/en/latest/user/getting_started.html"
   ]
  },
  {
   "cell_type": "markdown",
   "id": "c71f8a3e",
   "metadata": {},
   "source": [
    "## File manager\n",
    "The file manager aims at keeping track of files (of all kinds) produced in the processing."
   ]
  },
  {
   "cell_type": "code",
   "execution_count": 16,
   "id": "dbc80ce6",
   "metadata": {},
   "outputs": [
    {
     "name": "stdout",
     "output_type": "stream",
     "text": [
      "Overwriting _tests/files.yaml\n"
     ]
    }
   ],
   "source": [
    "%%file '_tests/files.yaml'\n",
    "\n",
    "description: Some text file\n",
    "id: my_input_file\n",
    "filetype: text\n",
    "path: ${SOMEDIR}/in_{option1}_{i:d}.txt\n",
    "author: Chuck Norris\n",
    "options:\n",
    "  option1: ['a', 'b']\n",
    "  i: range(0, 3, 1)"
   ]
  },
  {
   "cell_type": "code",
   "execution_count": 17,
   "id": "b2210907",
   "metadata": {},
   "outputs": [
    {
     "name": "stdout",
     "output_type": "stream",
     "text": [
      "_tests/in_a_0.txt\n",
      "_tests/in_a_1.txt\n",
      "_tests/in_a_2.txt\n"
     ]
    }
   ],
   "source": [
    "fm = FileManager('_tests/files.yaml', environ=dict(SOMEDIR='_tests'))\n",
    "# To select files\n",
    "fm2 = fm.select(keywords='text file', option1=['a'])\n",
    "# Iterate over files\n",
    "for fi in fm2:\n",
    "    print(fi)\n",
    "    # Write text\n",
    "    fi.save('hello world!')"
   ]
  },
  {
   "cell_type": "code",
   "execution_count": 18,
   "id": "76983469",
   "metadata": {},
   "outputs": [
    {
     "name": "stdout",
     "output_type": "stream",
     "text": [
      "/bin/bash: /home/adematti/anaconda3/envs/cosmodesi-main/lib/libtinfo.so.6: no version information available (required by /bin/bash)\r\n",
      "author: Chuck Norris\r\n",
      "description: Some text file\r\n",
      "filetype: text\r\n",
      "id: my_input_file\r\n",
      "link: ''\r\n",
      "options:\r\n",
      "  i: range(0, 3)\r\n",
      "  option1: [a, b]\r\n",
      "path: ${SOMEDIR}/in_{option1}_{i:d}.txt\r\n",
      "---\r\n",
      "author: Chuck Norris\r\n",
      "description: cloned file\r\n",
      "filetype: text\r\n",
      "id: my_output_file\r\n",
      "link: ''\r\n",
      "options:\r\n",
      "  i: range(0, 3)\r\n",
      "  option1: [a, b]\r\n",
      "path: ${SOMEDIR}/out_{option1}_{i:d}.txt\r\n"
     ]
    }
   ],
   "source": [
    "# To add a new entry\n",
    "fm.append(dict(description='added file', id='added_file', filetype='catalog', path='test.fits'))\n",
    "# To delete an entry\n",
    "del fm[-1]\n",
    "# To add a cloned entry\n",
    "fm.append(fm.data[0].clone(id='my_output_file', description='cloned file', path='${SOMEDIR}/out_{option1}_{i:d}.txt'))\n",
    "fm.save('_tests/files.yaml')\n",
    "# Display new file data base\n",
    "!cat '_tests/files.yaml'"
   ]
  },
  {
   "cell_type": "code",
   "execution_count": 19,
   "id": "c0fa4b05",
   "metadata": {},
   "outputs": [
    {
     "ename": "ValueError",
     "evalue": "\"get\" is not applicable as there are multiple options:\nBaseFileEntry(\npath: ${SOMEDIR}/out_{option1}_{i:d}.txt,\nfiletype: text,\nid: my_output_file,\nauthor: Chuck Norris,\noptions: {'option1': ['a', 'b'], 'i': range(0, 3)},\ndescription: cloned file,\nlink: \n)",
     "output_type": "error",
     "traceback": [
      "\u001b[0;31m---------------------------------------------------------------------------\u001b[0m",
      "\u001b[0;31mValueError\u001b[0m                                Traceback (most recent call last)",
      "Cell \u001b[0;32mIn[19], line 2\u001b[0m\n\u001b[1;32m      1\u001b[0m \u001b[38;5;66;03m# Let's search for one file\u001b[39;00m\n\u001b[0;32m----> 2\u001b[0m \u001b[38;5;28mprint\u001b[39m(\u001b[43mfm\u001b[49m\u001b[38;5;241;43m.\u001b[39;49m\u001b[43mget\u001b[49m\u001b[43m(\u001b[49m\u001b[43mkeywords\u001b[49m\u001b[38;5;241;43m=\u001b[39;49m\u001b[38;5;124;43m'\u001b[39;49m\u001b[38;5;124;43mclone\u001b[39;49m\u001b[38;5;124;43m'\u001b[39;49m\u001b[43m)\u001b[49m)\n",
      "File \u001b[0;32m/home/adematti/Bureau/DESI/NERSC/cosmodesi/desipipe/desipipe/file_manager.py:894\u001b[0m, in \u001b[0;36mFileEntryCollection.get\u001b[0;34m(self, check_exists, raise_error, *args, **kwargs)\u001b[0m\n\u001b[1;32m    892\u001b[0m new \u001b[38;5;241m=\u001b[39m \u001b[38;5;28mself\u001b[39m\u001b[38;5;241m.\u001b[39mselect(\u001b[38;5;241m*\u001b[39margs, \u001b[38;5;241m*\u001b[39m\u001b[38;5;241m*\u001b[39mkwargs)\n\u001b[1;32m    893\u001b[0m \u001b[38;5;28;01mif\u001b[39;00m \u001b[38;5;28mlen\u001b[39m(new\u001b[38;5;241m.\u001b[39mdata) \u001b[38;5;241m==\u001b[39m \u001b[38;5;241m1\u001b[39m:\n\u001b[0;32m--> 894\u001b[0m     \u001b[38;5;28;01mreturn\u001b[39;00m \u001b[43mnew\u001b[49m\u001b[38;5;241;43m.\u001b[39;49m\u001b[43mdata\u001b[49m\u001b[43m[\u001b[49m\u001b[38;5;241;43m0\u001b[39;49m\u001b[43m]\u001b[49m\u001b[38;5;241;43m.\u001b[39;49m\u001b[43mget\u001b[49m\u001b[43m(\u001b[49m\u001b[43mcheck_exists\u001b[49m\u001b[38;5;241;43m=\u001b[39;49m\u001b[43mcheck_exists\u001b[49m\u001b[43m,\u001b[49m\u001b[43m \u001b[49m\u001b[43mraise_error\u001b[49m\u001b[38;5;241;43m=\u001b[39;49m\u001b[43mraise_error\u001b[49m\u001b[43m)\u001b[49m\n\u001b[1;32m    895\u001b[0m \u001b[38;5;28;01mtry\u001b[39;00m:\n\u001b[1;32m    896\u001b[0m     \u001b[38;5;28;01mif\u001b[39;00m \u001b[38;5;28mlen\u001b[39m(new\u001b[38;5;241m.\u001b[39mdata) \u001b[38;5;241m>\u001b[39m \u001b[38;5;241m1\u001b[39m:\n",
      "File \u001b[0;32m/home/adematti/Bureau/DESI/NERSC/cosmodesi/desipipe/desipipe/file_manager.py:544\u001b[0m, in \u001b[0;36mBaseFileEntry.get\u001b[0;34m(self, raise_error, *args, **kwargs)\u001b[0m\n\u001b[1;32m    542\u001b[0m     \u001b[38;5;28;01mif\u001b[39;00m \u001b[38;5;28mlen\u001b[39m(new) \u001b[38;5;241m==\u001b[39m \u001b[38;5;241m0\u001b[39m:\n\u001b[1;32m    543\u001b[0m         \u001b[38;5;28;01mraise\u001b[39;00m \u001b[38;5;167;01mValueError\u001b[39;00m(\u001b[38;5;124m'\u001b[39m\u001b[38;5;124m\"\u001b[39m\u001b[38;5;124mget\u001b[39m\u001b[38;5;124m\"\u001b[39m\u001b[38;5;124m is not applicable as there are no matching entries\u001b[39m\u001b[38;5;124m'\u001b[39m)\n\u001b[0;32m--> 544\u001b[0m     \u001b[38;5;28;01mraise\u001b[39;00m \u001b[38;5;167;01mValueError\u001b[39;00m(\u001b[38;5;124m'\u001b[39m\u001b[38;5;124m\"\u001b[39m\u001b[38;5;124mget\u001b[39m\u001b[38;5;124m\"\u001b[39m\u001b[38;5;124m is not applicable as there are multiple options:\u001b[39m\u001b[38;5;130;01m\\n\u001b[39;00m\u001b[38;5;132;01m{}\u001b[39;00m\u001b[38;5;124m'\u001b[39m\u001b[38;5;241m.\u001b[39mformat(new))\n\u001b[1;32m    545\u001b[0m \u001b[38;5;28;01mexcept\u001b[39;00m \u001b[38;5;167;01mValueError\u001b[39;00m:\n\u001b[1;32m    546\u001b[0m     \u001b[38;5;28;01mif\u001b[39;00m raise_error: \u001b[38;5;28;01mraise\u001b[39;00m\n",
      "\u001b[0;31mValueError\u001b[0m: \"get\" is not applicable as there are multiple options:\nBaseFileEntry(\npath: ${SOMEDIR}/out_{option1}_{i:d}.txt,\nfiletype: text,\nid: my_output_file,\nauthor: Chuck Norris,\noptions: {'option1': ['a', 'b'], 'i': range(0, 3)},\ndescription: cloned file,\nlink: \n)"
     ]
    }
   ],
   "source": [
    "# Let's search for one file\n",
    "print(fm.get(keywords='clone'))"
   ]
  },
  {
   "cell_type": "markdown",
   "id": "2e0f17d8",
   "metadata": {},
   "source": [
    "The error states that there are multiple files several options: {'option1': ['a', 'b'], 'i': range(0, 3)}."
   ]
  },
  {
   "cell_type": "code",
   "execution_count": 20,
   "id": "a0b09867",
   "metadata": {},
   "outputs": [
    {
     "name": "stdout",
     "output_type": "stream",
     "text": [
      "_tests/out_a_2.txt\n",
      "_tests/out_a_0.txt {'option1': 'a', 'i': 0}\n",
      "_tests/out_a_1.txt {'option1': 'a', 'i': 1}\n",
      "_tests/out_a_2.txt {'option1': 'a', 'i': 2}\n"
     ]
    }
   ],
   "source": [
    "# We can pick one file with get\n",
    "print(fm.get(keywords='clone', option1='a', i=2))\n",
    "# Or select multiple entries, an return a FileManager object, as fm\n",
    "fm2 = fm.select(keywords='clone', option1='a')\n",
    "# If we want to get a list of file, we can do:\n",
    "for fi in fm2.iter(intersection=False):\n",
    "    print(fi, fi.options)\n",
    "# intersection = False means we iterate on all file entries and all their options, not on the intersection of options of all file entries"
   ]
  },
  {
   "cell_type": "code",
   "execution_count": 21,
   "id": "76993b27",
   "metadata": {},
   "outputs": [],
   "source": [
    "# Let's add a new task!\n",
    "@tm.python_app\n",
    "def copy(text_in, text_out):\n",
    "    import numpy as np  # just to illustrate that the package version is tracked\n",
    "    text = text_in.load()\n",
    "    text += ' this is my first message'\n",
    "    print('saving', text_out.filepath)\n",
    "    text_out.save(text)"
   ]
  },
  {
   "cell_type": "code",
   "execution_count": 22,
   "id": "f2a9993f",
   "metadata": {},
   "outputs": [
    {
     "name": "stdout",
     "output_type": "stream",
     "text": [
      "[000001.58]  12-06 20:00  BaseFile                  INFO     Loading _tests/in_a_2.txt\n",
      "[000001.59]  12-06 20:00  BaseFile                  INFO     Loading _tests/in_a_1.txt\n",
      "[000001.60]  12-06 20:00  BaseFile                  INFO     Loading _tests/in_a_0.txt\n",
      "[000001.63]  12-06 20:00  BaseFile                  INFO     Moving output to _tests/out_a_2.txt\n",
      "[000001.67]  12-06 20:00  BaseFile                  INFO     Moving output to _tests/out_a_0.txt\n",
      "[000001.72]  12-06 20:00  BaseFile                  INFO     Moving output to _tests/out_a_1.txt\n"
     ]
    }
   ],
   "source": [
    "# Iterate over files\n",
    "for fi in fm.select(option1=['a']):\n",
    "    copy(fi.get(id='my_input_file'), fi.get(id='my_output_file'))\n",
    "\n",
    "# Let's spawn a new process, as the previous one has finished (there was no work anymore!)\n",
    "from desipipe import spawn\n",
    "spawn(queue)"
   ]
  },
  {
   "cell_type": "code",
   "execution_count": 23,
   "id": "b9fc0d4f",
   "metadata": {},
   "outputs": [
    {
     "name": "stdout",
     "output_type": "stream",
     "text": [
      "/bin/bash: /home/adematti/anaconda3/envs/cosmodesi-main/lib/libtinfo.so.6: no version information available (required by /bin/bash)\r\n",
      ".   .desipipe\tin_a_0.txt  in_a_2.txt\t out_a_1.txt  test.sqlite\r\n",
      "..  files.yaml\tin_a_1.txt  out_a_0.txt  out_a_2.txt\r\n"
     ]
    }
   ],
   "source": [
    "!ls -a _tests/"
   ]
  },
  {
   "cell_type": "code",
   "execution_count": 24,
   "id": "d01289db",
   "metadata": {},
   "outputs": [
    {
     "name": "stdout",
     "output_type": "stream",
     "text": [
      "/bin/bash: /home/adematti/anaconda3/envs/cosmodesi-main/lib/libtinfo.so.6: no version information available (required by /bin/bash)\r\n",
      "hello world! this is my first message"
     ]
    }
   ],
   "source": [
    "!cat _tests/out_a_0.txt"
   ]
  },
  {
   "cell_type": "code",
   "execution_count": 25,
   "id": "466d3b33",
   "metadata": {},
   "outputs": [
    {
     "name": "stdout",
     "output_type": "stream",
     "text": [
      "/bin/bash: /home/adematti/anaconda3/envs/cosmodesi-main/lib/libtinfo.so.6: no version information available (required by /bin/bash)\n",
      ".  ..  copy.py\tcopy.versions\n",
      "\n",
      "*.py file is:\n",
      "/bin/bash: /home/adematti/anaconda3/envs/cosmodesi-main/lib/libtinfo.so.6: no version information available (required by /bin/bash)\n",
      "def copy(text_in, text_out):\n",
      "    import numpy as np  # just to illustrate that the package version is tracked\n",
      "    text = text_in.load()\n",
      "    text += ' this is my first message'\n",
      "    print('saving', text_out.filepath)\n",
      "    text_out.save(text)\n",
      "\n",
      "*.versions file is:\n",
      "/bin/bash: /home/adematti/anaconda3/envs/cosmodesi-main/lib/libtinfo.so.6: no version information available (required by /bin/bash)\n",
      "json=2.0.9\n",
      "numpy=1.22.3\n",
      "mpi4py=3.1.4\n",
      "ctypes=1.1.0\n"
     ]
    }
   ],
   "source": [
    "# This is where desipipe processing information is saved\n",
    "!ls -a _tests/.desipipe\n",
    "print('\\n*.py file is:')\n",
    "!cat _tests/.desipipe/copy.py\n",
    "print('\\n*.versions file is:')\n",
    "!cat _tests/.desipipe/copy.versions"
   ]
  },
  {
   "cell_type": "code",
   "execution_count": 26,
   "id": "b47388b8",
   "metadata": {},
   "outputs": [],
   "source": [
    "# Delete queue\n",
    "queue.delete(kill=False)"
   ]
  }
 ],
 "metadata": {
  "kernelspec": {
   "display_name": "cosmodesi-main",
   "language": "python",
   "name": "cosmodesi-main"
  },
  "language_info": {
   "codemirror_mode": {
    "name": "ipython",
    "version": 3
   },
   "file_extension": ".py",
   "mimetype": "text/x-python",
   "name": "python",
   "nbconvert_exporter": "python",
   "pygments_lexer": "ipython3",
   "version": "3.10.12"
  }
 },
 "nbformat": 4,
 "nbformat_minor": 5
}
