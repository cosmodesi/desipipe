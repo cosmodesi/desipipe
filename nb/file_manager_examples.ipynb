{
 "cells": [
  {
   "cell_type": "markdown",
   "id": "07bf9c1e",
   "metadata": {},
   "source": [
    "# File manager\n",
    "In this notebook we will show how to organize files within the **desipipe** framework. You need to have installed **desipipe** with:\n",
    "```\n",
    "python -m pip install git+https://github.com/cosmodesi/desipipe#egg=desipipe\n",
    "```\n",
    "You can also take a look at https://desipipe.readthedocs.io/en/latest/user/getting_started.html."
   ]
  },
  {
   "cell_type": "code",
   "execution_count": 1,
   "id": "a599e104-739d-4457-b62e-56d7878d2073",
   "metadata": {},
   "outputs": [],
   "source": [
    "!rm -rf _tests_fm  # remove directory if exists"
   ]
  },
  {
   "cell_type": "markdown",
   "id": "6935a24a-4ee9-4772-ae73-b721f06cd1b4",
   "metadata": {},
   "source": [
    "## File object\n",
    "The `BaseFile` object contains most information about the file:\n",
    "- file path\n",
    "- author, description\n",
    "- save / load functions\n",
    "- options (specify how the file is to be produced)"
   ]
  },
  {
   "cell_type": "code",
   "execution_count": 2,
   "id": "1c38f6e6-e455-4ff9-8f10-10fdea34838a",
   "metadata": {},
   "outputs": [
    {
     "name": "stdout",
     "output_type": "stream",
     "text": [
      "registered file types {'base': <class 'desipipe.io.BaseFile'>, 'text': <class 'desipipe.io.TextFile'>, 'catalog': <class 'desipipe.io.CatalogFile'>, 'power': <class 'desipipe.io.PowerSpectrumFile'>, 'correlation': <class 'desipipe.io.CorrelationFunctionFile'>, 'covariance': <class 'desipipe.io.ObservableCovarianceFile'>, 'observable': <class 'desipipe.io.ObservableArrayFile'>, 'wmatrix': <class 'desipipe.io.BaseMatrixFile'>, 'chain': <class 'desipipe.io.ChainFile'>, 'profiles': <class 'desipipe.io.ProfilesFile'>, 'generic': <class 'desipipe.io.GenericFile'>}\n",
      "description A mock catalog\n",
      "options {'boxsize': 1000.0, 'imock': 1}\n",
      "filepath _tests_fm/data_boxsize1000_1.fits\n"
     ]
    }
   ],
   "source": [
    "from desipipe.file_manager import BaseFile\n",
    "\n",
    "# The list of file types is in https://github.com/cosmodesi/desipipe/blob/main/desipipe/io.py\n",
    "from desipipe.io import TextFile\n",
    "print('registered file types', TextFile._registry)\n",
    "\n",
    "file = BaseFile('_tests_fm/data_boxsize{boxsize:.0f}_{imock:d}.fits',  # path can have {} patterns to be replaced by options\n",
    "                description='A mock catalog',\n",
    "                author='You',\n",
    "                filetype='catalog',\n",
    "                options={'boxsize': 1000., 'imock': 1})\n",
    "\n",
    "# To get description\n",
    "print('description', file.description)\n",
    "# To get options\n",
    "print('options', file.options)\n",
    "# To get filepath\n",
    "print('filepath', file.filepath)"
   ]
  },
  {
   "cell_type": "code",
   "execution_count": 3,
   "id": "e1b64054-04ba-4149-8dc3-e541679e07e8",
   "metadata": {},
   "outputs": [],
   "source": [
    "# Example: let's create a catalog\n",
    "from mockfactory import RandomBoxCatalog\n",
    "\n",
    "catalog = RandomBoxCatalog(boxsize=file.options['boxsize'], csize=1000)\n",
    "# Let's save the catalog\n",
    "file.save(catalog)\n",
    "\n",
    "# Load the catalog\n",
    "catalog = file.load()"
   ]
  },
  {
   "cell_type": "code",
   "execution_count": 4,
   "id": "601e9b18-4b3d-40bf-8c00-ccf712d49d65",
   "metadata": {},
   "outputs": [
    {
     "name": "stdout",
     "output_type": "stream",
     "text": [
      "{'boxsize': 1000.0, 'imock': 1, 'csize': 1000}\n"
     ]
    }
   ],
   "source": [
    "# To copy and update\n",
    "file = file.clone(description='a created mock catalog', options={**file.options, 'csize': 1000})\n",
    "print(file.options)\n",
    "\n",
    "# To create a symlink when saving the catalog, set the 'link' property\n",
    "file = file.clone(link='_tests_fm/link_to_catalog.fits')\n",
    "file.symlink()"
   ]
  },
  {
   "cell_type": "code",
   "execution_count": 5,
   "id": "1d2a1888-28a9-4a02-874b-fd0ae70ddcba",
   "metadata": {},
   "outputs": [
    {
     "name": "stdout",
     "output_type": "stream",
     "text": [
      "total 32\n",
      "-rw-r--r-- 1 adematti idphp 31680 janv. 14 10:12 data_boxsize1000_1.fits\n",
      "lrwxrwxrwx 1 adematti idphp    33 janv. 14 10:12 link_to_catalog.fits -> _tests_fm/data_boxsize1000_1.fits\n"
     ]
    }
   ],
   "source": [
    "!ls -l _tests_fm/  # see, the symlink is there"
   ]
  },
  {
   "cell_type": "markdown",
   "id": "b58426cd-e4c8-45fd-9618-07983739f424",
   "metadata": {},
   "source": [
    "## File entry\n",
    "\n",
    "The `BaseFileEntry` is an object that gathers a coherent set of `BaseFile` objects, i.e. which differ only through their options."
   ]
  },
  {
   "cell_type": "code",
   "execution_count": 6,
   "id": "6c8f990d-c9eb-4341-a74d-c0fdfb8ef701",
   "metadata": {},
   "outputs": [],
   "source": [
    "from desipipe.file_manager import BaseFileEntry\n",
    "\n",
    "# File entry for 100 mocks\n",
    "entry = BaseFileEntry('_tests_fm/data_boxsize{boxsize:.0f}_{imock:d}.fits',  # path can have {} patterns to be replaced by options\n",
    "                     description='A mock catalog',\n",
    "                     author='You',\n",
    "                     filetype='catalog',\n",
    "                     options={'boxsize': 1000., 'imock': range(100)})"
   ]
  },
  {
   "cell_type": "code",
   "execution_count": 7,
   "id": "445a7364-0cbb-4965-96ff-63a11c7fb675",
   "metadata": {},
   "outputs": [
    {
     "name": "stdout",
     "output_type": "stream",
     "text": [
      "BaseFileEntry(\n",
      "path: _tests_fm/data_boxsize{boxsize:.0f}_{imock:d}.fits,\n",
      "filetype: catalog,\n",
      "id: ,\n",
      "author: You,\n",
      "options: {'boxsize': [1000.0], 'imock': [0, 1, 2, 3, 4, 5, 6, 7, 8, 9]},\n",
      "description: A mock catalog,\n",
      "link: \n",
      ")\n"
     ]
    }
   ],
   "source": [
    "# To get a `BaseFileEntry` restricted to 'imock': range(10)\n",
    "\n",
    "entry2 = entry.select(imock=range(10))\n",
    "print(entry2)"
   ]
  },
  {
   "cell_type": "code",
   "execution_count": 8,
   "id": "ee7cdde5-91f2-4aa3-902e-889ffe1b8fa4",
   "metadata": {},
   "outputs": [
    {
     "name": "stdout",
     "output_type": "stream",
     "text": [
      "filepath _tests_fm/data_boxsize1000_3.fits\n",
      "options {'boxsize': 1000.0, 'imock': 3}\n"
     ]
    }
   ],
   "source": [
    "# To get a :class:`BaseFile`, we need to specify all options!\n",
    "# Returns :class:`BaseFile` for mock #3\n",
    "file = entry2.get(imock=3)\n",
    "print('filepath', file)\n",
    "print('options', file.options)"
   ]
  },
  {
   "cell_type": "code",
   "execution_count": 9,
   "id": "725e6e50-8bdf-4beb-9468-1fa397f82cf9",
   "metadata": {},
   "outputs": [
    {
     "name": "stdout",
     "output_type": "stream",
     "text": [
      "BaseFileEntry(\n",
      "path: _tests_fm/data_boxsize{boxsize:.0f}_{imock:d}.fits,\n",
      "filetype: catalog,\n",
      "id: ,\n",
      "author: You,\n",
      "options: {'boxsize': [1000.0], 'imock': Ellipsis},\n",
      "description: A mock catalog,\n",
      "link: \n",
      ")\n",
      "_tests_fm/data_boxsize1000_2345.fits\n"
     ]
    }
   ],
   "source": [
    "# Tip: let's say we do not know how many mocks we have, we can just leave the option empty, as Ellipsis\n",
    "\n",
    "entry2 = entry.clone(options={**entry.options, 'imock': Ellipsis})\n",
    "print(entry2)\n",
    "\n",
    "file = entry2.get(imock=2345)\n",
    "print(file)"
   ]
  },
  {
   "cell_type": "code",
   "execution_count": 10,
   "id": "df28313d-b984-41fa-b3ad-6f14ffb769c1",
   "metadata": {},
   "outputs": [
    {
     "name": "stdout",
     "output_type": "stream",
     "text": [
      "_tests_fm/data_boxsize1000_24_shuffled.fits _tests_fm/data_boxsize1000_24.fits\n",
      "_tests_fm/data_boxsize1000_24_shuffled.fits _tests_fm/data_boxsize1000_24.fits\n"
     ]
    }
   ],
   "source": [
    "# Tip: let's say we have an option, 'shuffled', that should only appear in the file path when it is True,\n",
    "# we can provide a dictionary of {option: string_in_path}\n",
    "\n",
    "entry3 = entry2.clone(path='_tests_fm/data_boxsize{boxsize:.0f}_{imock:d}{shuffled}.fits',\n",
    "                      options={**entry.options, 'shuffled': {True: '_shuffled', False: ''}})\n",
    "print(entry3.get(imock=24, shuffled=True), entry3.get(imock=24, shuffled=False))\n",
    "\n",
    "# Alternatively, we can specify foptions, in the same order as options\n",
    "entry3 = entry2.clone(path='_tests_fm/data_boxsize{boxsize:.0f}_{imock:d}{shuffled}.fits',\n",
    "                      options={**entry.options, 'shuffled': [True, False]}, foptions={'shuffled': ['_shuffled', '']})\n",
    "print(entry3.get(imock=24, shuffled=True), entry3.get(imock=24, shuffled=False))"
   ]
  },
  {
   "cell_type": "markdown",
   "id": "38c9fa89-53d1-4ec5-87fa-10723ec5c614",
   "metadata": {},
   "source": [
    "## File Manager\n",
    "\n",
    "The file manager aims at keeping track of files (of all kinds) produced in the processing.\n",
    "A `FileManager` is a collection of `FileEntry`, i.e. can contain many different files of different types, authors, etc.\n",
    "It is usually useful to identify a file entry with and \"id\", typically a small string that is self-explanatory on the corresponding files."
   ]
  },
  {
   "cell_type": "code",
   "execution_count": 11,
   "id": "cc5a9821-e438-49a2-92e7-647df0aa112b",
   "metadata": {},
   "outputs": [
    {
     "name": "stdout",
     "output_type": "stream",
     "text": [
      "FileManager(\n",
      "BaseFileEntry(\n",
      "path: _tests_fm/data_boxsize{boxsize:.0f}_{imock:d}.fits,\n",
      "filetype: catalog,\n",
      "id: my_mock_catalog,\n",
      "author: You,\n",
      "options: {'boxsize': [1000.0], 'imock': range(0, 100)},\n",
      "description: Mock catalogs,\n",
      "link: \n",
      "),\n",
      "BaseFileEntry(\n",
      "path: _tests_fm/power_spectrum_boxsize{boxsize:.0f}_interlacing{interlacing:d}_{imock:d}.npy,\n",
      "filetype: power,\n",
      "id: my_mock_power_spectrum,\n",
      "author: You,\n",
      "options: {'boxsize': [1000.0], 'imock': Ellipsis, 'interlacing': [0, 3]},\n",
      "description: Power spectrum measurements for mock catalogs,\n",
      "link: \n",
      ")\n",
      ")\n"
     ]
    }
   ],
   "source": [
    "# Let's create a file manager, essentially works like a list of entries\n",
    "from desipipe.file_manager import FileManager\n",
    "\n",
    "fm = FileManager()\n",
    "entry1 = BaseFileEntry('_tests_fm/data_boxsize{boxsize:.0f}_{imock:d}.fits',\n",
    "                       id='my_mock_catalog',  # id, this will be useful to select files\n",
    "                       description='Mock catalogs',\n",
    "                       author='You',\n",
    "                       filetype='catalog',\n",
    "                       options={'boxsize': 1000., 'imock': range(100)})\n",
    "fm.append(entry1)\n",
    "# Directly adds a dictionary\n",
    "fm.append(dict(path='_tests_fm/power_spectrum_boxsize{boxsize:.0f}_interlacing{interlacing:d}_{imock:d}.npy',\n",
    "              id='my_mock_power_spectrum',\n",
    "              description='Power spectrum measurements for mock catalogs',\n",
    "              author='You',\n",
    "              filetype='power',\n",
    "              options={'boxsize': 1000., 'imock': Ellipsis, 'interlacing': [0, 3]}))\n",
    "print(fm)"
   ]
  },
  {
   "cell_type": "code",
   "execution_count": 12,
   "id": "98a44790-2c1f-44d6-a449-d3222cb41df7",
   "metadata": {},
   "outputs": [
    {
     "name": "stdout",
     "output_type": "stream",
     "text": [
      "FileManager(\n",
      "BaseFileEntry(\n",
      "path: _tests_fm/data_boxsize{boxsize:.0f}_{imock:d}.fits,\n",
      "filetype: catalog,\n",
      "id: my_mock_catalog,\n",
      "author: You,\n",
      "options: {'boxsize': [1000.0], 'imock': [0, 1, 2, 3, 4, 5, 6, 7, 8, 9]},\n",
      "description: Mock catalogs,\n",
      "link: \n",
      "),\n",
      "BaseFileEntry(\n",
      "path: _tests_fm/power_spectrum_boxsize{boxsize:.0f}_interlacing{interlacing:d}_{imock:d}.npy,\n",
      "filetype: power,\n",
      "id: my_mock_power_spectrum,\n",
      "author: You,\n",
      "options: {'boxsize': [1000.0], 'imock': range(0, 10), 'interlacing': [0, 3]},\n",
      "description: Power spectrum measurements for mock catalogs,\n",
      "link: \n",
      ")\n",
      ")\n"
     ]
    },
    {
     "ename": "ValueError",
     "evalue": "\"get\" is not applicable as there are multiple options:\nBaseFileEntry(\npath: _tests_fm/power_spectrum_boxsize{boxsize:.0f}_interlacing{interlacing:d}_{imock:d}.npy,\nfiletype: power,\nid: my_mock_power_spectrum,\nauthor: You,\noptions: {'boxsize': [1000.0], 'imock': range(0, 10), 'interlacing': [0, 3]},\ndescription: Power spectrum measurements for mock catalogs,\nlink: \n)",
     "output_type": "error",
     "traceback": [
      "\u001b[0;31m---------------------------------------------------------------------------\u001b[0m",
      "\u001b[0;31mValueError\u001b[0m                                Traceback (most recent call last)",
      "Cell \u001b[0;32mIn[12], line 6\u001b[0m\n\u001b[1;32m      3\u001b[0m \u001b[38;5;28mprint\u001b[39m(fm)\n\u001b[1;32m      5\u001b[0m \u001b[38;5;66;03m# And select one specific file\u001b[39;00m\n\u001b[0;32m----> 6\u001b[0m file \u001b[38;5;241m=\u001b[39m \u001b[43mfm\u001b[49m\u001b[38;5;241;43m.\u001b[39;49m\u001b[43mget\u001b[49m\u001b[43m(\u001b[49m\u001b[38;5;28;43mid\u001b[39;49m\u001b[38;5;241;43m=\u001b[39;49m\u001b[38;5;124;43m'\u001b[39;49m\u001b[38;5;124;43mmy_mock_power_spectrum\u001b[39;49m\u001b[38;5;124;43m'\u001b[39;49m\u001b[43m)\u001b[49m\n",
      "File \u001b[0;32m~/Bureau/DESI/NERSC/cosmodesi/desipipe/desipipe/file_manager.py:944\u001b[0m, in \u001b[0;36mFileEntryCollection.get\u001b[0;34m(self, check_exists, raise_error, *args, **kwargs)\u001b[0m\n\u001b[1;32m    942\u001b[0m new \u001b[38;5;241m=\u001b[39m \u001b[38;5;28mself\u001b[39m\u001b[38;5;241m.\u001b[39mselect(\u001b[38;5;241m*\u001b[39margs, empty_error\u001b[38;5;241m=\u001b[39mraise_error, \u001b[38;5;241m*\u001b[39m\u001b[38;5;241m*\u001b[39mkwargs)\n\u001b[1;32m    943\u001b[0m \u001b[38;5;28;01mif\u001b[39;00m \u001b[38;5;28mlen\u001b[39m(new\u001b[38;5;241m.\u001b[39mdata) \u001b[38;5;241m==\u001b[39m \u001b[38;5;241m1\u001b[39m:\n\u001b[0;32m--> 944\u001b[0m     \u001b[38;5;28;01mreturn\u001b[39;00m \u001b[43mnew\u001b[49m\u001b[38;5;241;43m.\u001b[39;49m\u001b[43mdata\u001b[49m\u001b[43m[\u001b[49m\u001b[38;5;241;43m0\u001b[39;49m\u001b[43m]\u001b[49m\u001b[38;5;241;43m.\u001b[39;49m\u001b[43mget\u001b[49m\u001b[43m(\u001b[49m\u001b[43mcheck_exists\u001b[49m\u001b[38;5;241;43m=\u001b[39;49m\u001b[43mcheck_exists\u001b[49m\u001b[43m,\u001b[49m\u001b[43m \u001b[49m\u001b[43mraise_error\u001b[49m\u001b[38;5;241;43m=\u001b[39;49m\u001b[43mraise_error\u001b[49m\u001b[43m)\u001b[49m\n\u001b[1;32m    945\u001b[0m \u001b[38;5;28;01mtry\u001b[39;00m:\n\u001b[1;32m    946\u001b[0m     \u001b[38;5;28;01mif\u001b[39;00m \u001b[38;5;28mlen\u001b[39m(new\u001b[38;5;241m.\u001b[39mdata) \u001b[38;5;241m>\u001b[39m \u001b[38;5;241m1\u001b[39m:\n",
      "File \u001b[0;32m~/Bureau/DESI/NERSC/cosmodesi/desipipe/desipipe/file_manager.py:554\u001b[0m, in \u001b[0;36mBaseFileEntry.get\u001b[0;34m(self, raise_error, *args, **kwargs)\u001b[0m\n\u001b[1;32m    552\u001b[0m     \u001b[38;5;28;01mif\u001b[39;00m \u001b[38;5;28mlen\u001b[39m(new) \u001b[38;5;241m==\u001b[39m \u001b[38;5;241m0\u001b[39m:\n\u001b[1;32m    553\u001b[0m         \u001b[38;5;28;01mraise\u001b[39;00m \u001b[38;5;167;01mValueError\u001b[39;00m(\u001b[38;5;124m'\u001b[39m\u001b[38;5;124m\"\u001b[39m\u001b[38;5;124mget\u001b[39m\u001b[38;5;124m\"\u001b[39m\u001b[38;5;124m is not applicable as there are no matching entries\u001b[39m\u001b[38;5;124m'\u001b[39m)\n\u001b[0;32m--> 554\u001b[0m     \u001b[38;5;28;01mraise\u001b[39;00m \u001b[38;5;167;01mValueError\u001b[39;00m(\u001b[38;5;124m'\u001b[39m\u001b[38;5;124m\"\u001b[39m\u001b[38;5;124mget\u001b[39m\u001b[38;5;124m\"\u001b[39m\u001b[38;5;124m is not applicable as there are multiple options:\u001b[39m\u001b[38;5;130;01m\\n\u001b[39;00m\u001b[38;5;132;01m{}\u001b[39;00m\u001b[38;5;124m'\u001b[39m\u001b[38;5;241m.\u001b[39mformat(new))\n\u001b[1;32m    555\u001b[0m \u001b[38;5;28;01mexcept\u001b[39;00m \u001b[38;5;167;01mValueError\u001b[39;00m:\n\u001b[1;32m    556\u001b[0m     \u001b[38;5;28;01mif\u001b[39;00m raise_error: \u001b[38;5;28;01mraise\u001b[39;00m\n",
      "\u001b[0;31mValueError\u001b[0m: \"get\" is not applicable as there are multiple options:\nBaseFileEntry(\npath: _tests_fm/power_spectrum_boxsize{boxsize:.0f}_interlacing{interlacing:d}_{imock:d}.npy,\nfiletype: power,\nid: my_mock_power_spectrum,\nauthor: You,\noptions: {'boxsize': [1000.0], 'imock': range(0, 10), 'interlacing': [0, 3]},\ndescription: Power spectrum measurements for mock catalogs,\nlink: \n)"
     ]
    }
   ],
   "source": [
    "# One can restrict the file manager to some specific options\n",
    "fm = fm.select(imock=range(10))\n",
    "print(fm)\n",
    "\n",
    "# And select one specific file\n",
    "file = fm.get(id='my_mock_power_spectrum')"
   ]
  },
  {
   "cell_type": "code",
   "execution_count": 13,
   "id": "4530c821-06f4-4d37-900c-d2a3e35c7bad",
   "metadata": {},
   "outputs": [
    {
     "name": "stdout",
     "output_type": "stream",
     "text": [
      "_tests_fm/power_spectrum_boxsize1000_interlacing3_2.npy {'boxsize': 1000.0, 'imock': 2, 'interlacing': 3}\n"
     ]
    }
   ],
   "source": [
    "# Oups! The error states that there are multiple matching options, we did not select on 'imock' and 'interlacing'!\n",
    "\n",
    "file = fm.get(id='my_mock_power_spectrum', imock=2, interlacing=3)\n",
    "print(file, file.options)"
   ]
  },
  {
   "cell_type": "code",
   "execution_count": 14,
   "id": "d1018cb3-22fa-455c-92ad-a7931617b99d",
   "metadata": {},
   "outputs": [
    {
     "ename": "ValueError",
     "evalue": "option values {'interlacing': 4} not found, best matching entries are [BaseFileEntry(\npath: _tests_fm/power_spectrum_boxsize{boxsize:.0f}_interlacing{interlacing:d}_{imock:d}.npy,\nfiletype: power,\nid: my_mock_power_spectrum,\nauthor: You,\noptions: {'boxsize': [1000.0], 'imock': range(0, 10), 'interlacing': [0, 3]},\ndescription: Power spectrum measurements for mock catalogs,\nlink: \n)]",
     "output_type": "error",
     "traceback": [
      "\u001b[0;31m---------------------------------------------------------------------------\u001b[0m",
      "\u001b[0;31mValueError\u001b[0m                                Traceback (most recent call last)",
      "Cell \u001b[0;32mIn[14], line 1\u001b[0m\n\u001b[0;32m----> 1\u001b[0m file \u001b[38;5;241m=\u001b[39m \u001b[43mfm\u001b[49m\u001b[38;5;241;43m.\u001b[39;49m\u001b[43mget\u001b[49m\u001b[43m(\u001b[49m\u001b[38;5;28;43mid\u001b[39;49m\u001b[38;5;241;43m=\u001b[39;49m\u001b[38;5;124;43m'\u001b[39;49m\u001b[38;5;124;43mmy_mock_power_spectrum\u001b[39;49m\u001b[38;5;124;43m'\u001b[39;49m\u001b[43m,\u001b[49m\u001b[43m \u001b[49m\u001b[43mimock\u001b[49m\u001b[38;5;241;43m=\u001b[39;49m\u001b[38;5;241;43m2\u001b[39;49m\u001b[43m,\u001b[49m\u001b[43m \u001b[49m\u001b[43minterlacing\u001b[49m\u001b[38;5;241;43m=\u001b[39;49m\u001b[38;5;241;43m4\u001b[39;49m\u001b[43m)\u001b[49m\n\u001b[1;32m      2\u001b[0m \u001b[38;5;28mprint\u001b[39m(file, file\u001b[38;5;241m.\u001b[39moptions)\n\u001b[1;32m      4\u001b[0m \u001b[38;5;66;03m# The error states that the provided option interlacing=4 does not exist!\u001b[39;00m\n",
      "File \u001b[0;32m~/Bureau/DESI/NERSC/cosmodesi/desipipe/desipipe/file_manager.py:942\u001b[0m, in \u001b[0;36mFileEntryCollection.get\u001b[0;34m(self, check_exists, raise_error, *args, **kwargs)\u001b[0m\n\u001b[1;32m    922\u001b[0m \u001b[38;5;28;01mdef\u001b[39;00m \u001b[38;5;21mget\u001b[39m(\u001b[38;5;28mself\u001b[39m, \u001b[38;5;241m*\u001b[39margs, check_exists\u001b[38;5;241m=\u001b[39m\u001b[38;5;28;01mFalse\u001b[39;00m, raise_error\u001b[38;5;241m=\u001b[39m\u001b[38;5;28;01mTrue\u001b[39;00m, \u001b[38;5;241m*\u001b[39m\u001b[38;5;241m*\u001b[39mkwargs):\n\u001b[1;32m    923\u001b[0m \u001b[38;5;250m    \u001b[39m\u001b[38;5;124;03m\"\"\"\u001b[39;00m\n\u001b[1;32m    924\u001b[0m \u001b[38;5;124;03m    Return the :class:`BaseFile` instance that matches input arguments, see :meth:`select`.\u001b[39;00m\n\u001b[1;32m    925\u001b[0m \n\u001b[0;32m   (...)\u001b[0m\n\u001b[1;32m    940\u001b[0m \u001b[38;5;124;03m    file : BaseFile\u001b[39;00m\n\u001b[1;32m    941\u001b[0m \u001b[38;5;124;03m    \"\"\"\u001b[39;00m\n\u001b[0;32m--> 942\u001b[0m     new \u001b[38;5;241m=\u001b[39m \u001b[38;5;28;43mself\u001b[39;49m\u001b[38;5;241;43m.\u001b[39;49m\u001b[43mselect\u001b[49m\u001b[43m(\u001b[49m\u001b[38;5;241;43m*\u001b[39;49m\u001b[43margs\u001b[49m\u001b[43m,\u001b[49m\u001b[43m \u001b[49m\u001b[43mempty_error\u001b[49m\u001b[38;5;241;43m=\u001b[39;49m\u001b[43mraise_error\u001b[49m\u001b[43m,\u001b[49m\u001b[43m \u001b[49m\u001b[38;5;241;43m*\u001b[39;49m\u001b[38;5;241;43m*\u001b[39;49m\u001b[43mkwargs\u001b[49m\u001b[43m)\u001b[49m\n\u001b[1;32m    943\u001b[0m     \u001b[38;5;28;01mif\u001b[39;00m \u001b[38;5;28mlen\u001b[39m(new\u001b[38;5;241m.\u001b[39mdata) \u001b[38;5;241m==\u001b[39m \u001b[38;5;241m1\u001b[39m:\n\u001b[1;32m    944\u001b[0m         \u001b[38;5;28;01mreturn\u001b[39;00m new\u001b[38;5;241m.\u001b[39mdata[\u001b[38;5;241m0\u001b[39m]\u001b[38;5;241m.\u001b[39mget(check_exists\u001b[38;5;241m=\u001b[39mcheck_exists, raise_error\u001b[38;5;241m=\u001b[39mraise_error)\n",
      "File \u001b[0;32m~/Bureau/DESI/NERSC/cosmodesi/desipipe/desipipe/file_manager.py:919\u001b[0m, in \u001b[0;36mFileEntryCollection.select\u001b[0;34m(self, id, filetype, keywords, empty_error, **kwargs)\u001b[0m\n\u001b[1;32m    877\u001b[0m \u001b[38;5;28;01mdef\u001b[39;00m \u001b[38;5;21mselect\u001b[39m(\u001b[38;5;28mself\u001b[39m, \u001b[38;5;28mid\u001b[39m\u001b[38;5;241m=\u001b[39m\u001b[38;5;28;01mNone\u001b[39;00m, filetype\u001b[38;5;241m=\u001b[39m\u001b[38;5;28;01mNone\u001b[39;00m, keywords\u001b[38;5;241m=\u001b[39m\u001b[38;5;28;01mNone\u001b[39;00m, empty_error\u001b[38;5;241m=\u001b[39m\u001b[38;5;28;01mFalse\u001b[39;00m, \u001b[38;5;241m*\u001b[39m\u001b[38;5;241m*\u001b[39mkwargs):\n\u001b[1;32m    878\u001b[0m \u001b[38;5;250m    \u001b[39m\u001b[38;5;124;03m\"\"\"\u001b[39;00m\n\u001b[1;32m    879\u001b[0m \u001b[38;5;124;03m    Restrict to input identifiers, keywords, or options, e.g.\u001b[39;00m\n\u001b[1;32m    880\u001b[0m \n\u001b[0;32m   (...)\u001b[0m\n\u001b[1;32m    917\u001b[0m \u001b[38;5;124;03m        Selected data base.\u001b[39;00m\n\u001b[1;32m    918\u001b[0m \u001b[38;5;124;03m    \"\"\"\u001b[39;00m\n\u001b[0;32m--> 919\u001b[0m     data \u001b[38;5;241m=\u001b[39m \u001b[38;5;28;43mself\u001b[39;49m\u001b[38;5;241;43m.\u001b[39;49m\u001b[43mindex\u001b[49m\u001b[43m(\u001b[49m\u001b[38;5;28;43mid\u001b[39;49m\u001b[38;5;241;43m=\u001b[39;49m\u001b[38;5;28;43mid\u001b[39;49m\u001b[43m,\u001b[49m\u001b[43m \u001b[49m\u001b[43mfiletype\u001b[49m\u001b[38;5;241;43m=\u001b[39;49m\u001b[43mfiletype\u001b[49m\u001b[43m,\u001b[49m\u001b[43m \u001b[49m\u001b[43mkeywords\u001b[49m\u001b[38;5;241;43m=\u001b[39;49m\u001b[43mkeywords\u001b[49m\u001b[43m,\u001b[49m\u001b[43m \u001b[49m\u001b[43mreturn_entry\u001b[49m\u001b[38;5;241;43m=\u001b[39;49m\u001b[38;5;28;43;01mTrue\u001b[39;49;00m\u001b[43m,\u001b[49m\u001b[43m \u001b[49m\u001b[43mempty_error\u001b[49m\u001b[38;5;241;43m=\u001b[39;49m\u001b[43mempty_error\u001b[49m\u001b[43m,\u001b[49m\u001b[43m \u001b[49m\u001b[38;5;241;43m*\u001b[39;49m\u001b[38;5;241;43m*\u001b[39;49m\u001b[43mkwargs\u001b[49m\u001b[43m)\u001b[49m[\u001b[38;5;241m1\u001b[39m]\n\u001b[1;32m    920\u001b[0m     \u001b[38;5;28;01mreturn\u001b[39;00m \u001b[38;5;28mself\u001b[39m\u001b[38;5;241m.\u001b[39mclone(data\u001b[38;5;241m=\u001b[39mdata)\n",
      "File \u001b[0;32m~/Bureau/DESI/NERSC/cosmodesi/desipipe/desipipe/file_manager.py:871\u001b[0m, in \u001b[0;36mFileEntryCollection.index\u001b[0;34m(self, id, filetype, keywords, return_entry, empty_error, ignore, **kwargs)\u001b[0m\n\u001b[1;32m    869\u001b[0m     values_never_found \u001b[38;5;241m=\u001b[39m {name: value \u001b[38;5;28;01mfor\u001b[39;00m name, value \u001b[38;5;129;01min\u001b[39;00m kwargs\u001b[38;5;241m.\u001b[39mitems() \u001b[38;5;28;01mif\u001b[39;00m \u001b[38;5;129;01mnot\u001b[39;00m \u001b[38;5;28mall\u001b[39m(\u001b[38;5;28mbool\u001b[39m(sentry\u001b[38;5;241m.\u001b[39moptions[name]) \u001b[38;5;28;01mfor\u001b[39;00m _, sentry \u001b[38;5;129;01min\u001b[39;00m values_not_found)}\n\u001b[1;32m    870\u001b[0m     best_entries \u001b[38;5;241m=\u001b[39m [entry \u001b[38;5;28;01mfor\u001b[39;00m entry, _ \u001b[38;5;129;01min\u001b[39;00m values_not_found[:limit]]\n\u001b[0;32m--> 871\u001b[0m     \u001b[38;5;28;01mraise\u001b[39;00m \u001b[38;5;167;01mValueError\u001b[39;00m(\u001b[38;5;124m'\u001b[39m\u001b[38;5;124moption values \u001b[39m\u001b[38;5;132;01m{}\u001b[39;00m\u001b[38;5;124m not found, best matching entries are \u001b[39m\u001b[38;5;132;01m{}\u001b[39;00m\u001b[38;5;124m'\u001b[39m\u001b[38;5;241m.\u001b[39mformat(values_never_found, best_entries))\n\u001b[1;32m    873\u001b[0m \u001b[38;5;28;01mif\u001b[39;00m return_entry:\n\u001b[1;32m    874\u001b[0m     \u001b[38;5;28;01mreturn\u001b[39;00m indices, entries\n",
      "\u001b[0;31mValueError\u001b[0m: option values {'interlacing': 4} not found, best matching entries are [BaseFileEntry(\npath: _tests_fm/power_spectrum_boxsize{boxsize:.0f}_interlacing{interlacing:d}_{imock:d}.npy,\nfiletype: power,\nid: my_mock_power_spectrum,\nauthor: You,\noptions: {'boxsize': [1000.0], 'imock': range(0, 10), 'interlacing': [0, 3]},\ndescription: Power spectrum measurements for mock catalogs,\nlink: \n)]"
     ]
    }
   ],
   "source": [
    "file = fm.get(id='my_mock_power_spectrum', imock=2, interlacing=4)\n",
    "print(file, file.options)\n",
    "\n",
    "# The error states that the provided option interlacing=4 does not exist!"
   ]
  },
  {
   "cell_type": "code",
   "execution_count": 15,
   "id": "828c02a0-cc3c-41c0-a204-65689bb71f73",
   "metadata": {},
   "outputs": [],
   "source": [
    "# To add a new entry\n",
    "fm.append(dict(description='added file', id='added_file', filetype='catalog', path='test.fits'))\n",
    "# To delete an entry\n",
    "del fm[-1]"
   ]
  },
  {
   "cell_type": "code",
   "execution_count": 16,
   "id": "74e0a084-4cea-4534-bcd4-89767de9bcd3",
   "metadata": {},
   "outputs": [
    {
     "name": "stdout",
     "output_type": "stream",
     "text": [
      "FileManager(\n",
      "BaseFileEntry(\n",
      "path: _tests_fm/data_boxsize{boxsize:.0f}_{imock:d}.fits,\n",
      "filetype: catalog,\n",
      "id: my_mock_catalog,\n",
      "author: You,\n",
      "options: {'boxsize': [1000.0], 'imock': [0, 1, 2, 3, 4, 5, 6, 7, 8, 9]},\n",
      "description: Mock catalogs,\n",
      "link: \n",
      "),\n",
      "BaseFileEntry(\n",
      "path: _tests_fm/power_spectrum_boxsize{boxsize:.0f}_interlacing{interlacing:d}_{imock:d}.npy,\n",
      "filetype: power,\n",
      "id: my_mock_power_spectrum,\n",
      "author: You,\n",
      "options: {'boxsize': [1000.0], 'imock': range(0, 10), 'interlacing': [0, 3]},\n",
      "description: Power spectrum measurements for mock catalogs,\n",
      "link: \n",
      "),\n",
      "BaseFileEntry(\n",
      "path: _tests_fm/data_other_boxsize{boxsize:.0f}_{imock:d}.fits,\n",
      "filetype: catalog,\n",
      "id: my_other_mock_catalog,\n",
      "author: You,\n",
      "options: {'boxsize': [2000.0], 'imock': range(0, 100)},\n",
      "description: Mock catalogs,\n",
      "link: \n",
      ")\n",
      ")\n"
     ]
    }
   ],
   "source": [
    "# We can join two file managers (as two lists)\n",
    "\n",
    "fm2 = FileManager()\n",
    "fm2.append(dict(path='_tests_fm/data_other_boxsize{boxsize:.0f}_{imock:d}.fits',\n",
    "                id='my_other_mock_catalog',  # id, this will be useful to select files\n",
    "                description='Mock catalogs',\n",
    "                author='You',\n",
    "                filetype='catalog',\n",
    "                options={'boxsize': 2000., 'imock': range(100)}))\n",
    "fm3 = fm + fm2\n",
    "print(fm3)"
   ]
  },
  {
   "cell_type": "code",
   "execution_count": 17,
   "id": "546d1f01-58f1-490d-95e3-3b84a9552605",
   "metadata": {},
   "outputs": [
    {
     "name": "stdout",
     "output_type": "stream",
     "text": [
      "_tests_fm/data_boxsize1000_0.fits\n",
      "_tests_fm/data_boxsize1000_1.fits\n",
      "_tests_fm/power_spectrum_boxsize1000_interlacing0_0.npy\n",
      "_tests_fm/power_spectrum_boxsize1000_interlacing3_0.npy\n",
      "_tests_fm/power_spectrum_boxsize1000_interlacing0_1.npy\n",
      "_tests_fm/power_spectrum_boxsize1000_interlacing3_1.npy\n"
     ]
    }
   ],
   "source": [
    "# We can also iterate on the file manager\n",
    "for fi in fm.select(imock=[0, 1]).iter():\n",
    "    print(fi)"
   ]
  },
  {
   "cell_type": "code",
   "execution_count": 18,
   "id": "745e71aa-223e-4e66-b0bb-dc6490d57369",
   "metadata": {},
   "outputs": [
    {
     "name": "stdout",
     "output_type": "stream",
     "text": [
      "{'boxsize': 1000.0, 'imock': 0, 'interlacing': 0}\n"
     ]
    },
    {
     "ename": "ValueError",
     "evalue": "options {'interlacing'} not found in any entry, best matching entries are [BaseFileEntry(\npath: _tests_fm/data_boxsize{boxsize:.0f}_{imock:d}.fits,\nfiletype: catalog,\nid: my_mock_catalog,\nauthor: You,\noptions: {'boxsize': [1000.0], 'imock': [0, 1, 2, 3, 4, 5, 6, 7, 8, 9]},\ndescription: Mock catalogs,\nlink: \n)]. Note that you can pass ignore=True to ignore input options that cannot be found in any file entry",
     "output_type": "error",
     "traceback": [
      "\u001b[0;31m---------------------------------------------------------------------------\u001b[0m",
      "\u001b[0;31mValueError\u001b[0m                                Traceback (most recent call last)",
      "Cell \u001b[0;32mIn[18], line 5\u001b[0m\n\u001b[1;32m      3\u001b[0m \u001b[38;5;28;01mfor\u001b[39;00m fpower \u001b[38;5;129;01min\u001b[39;00m fm\u001b[38;5;241m.\u001b[39mselect(\u001b[38;5;28mid\u001b[39m\u001b[38;5;241m=\u001b[39m\u001b[38;5;124m'\u001b[39m\u001b[38;5;124mmy_mock_power_spectrum\u001b[39m\u001b[38;5;124m'\u001b[39m, imock\u001b[38;5;241m=\u001b[39m[\u001b[38;5;241m0\u001b[39m, \u001b[38;5;241m1\u001b[39m])\u001b[38;5;241m.\u001b[39miter():\n\u001b[1;32m      4\u001b[0m     \u001b[38;5;28mprint\u001b[39m(fpower\u001b[38;5;241m.\u001b[39moptions)\n\u001b[0;32m----> 5\u001b[0m     fcatalog \u001b[38;5;241m=\u001b[39m \u001b[43mfm\u001b[49m\u001b[38;5;241;43m.\u001b[39;49m\u001b[43mget\u001b[49m\u001b[43m(\u001b[49m\u001b[38;5;28;43mid\u001b[39;49m\u001b[38;5;241;43m=\u001b[39;49m\u001b[38;5;124;43m'\u001b[39;49m\u001b[38;5;124;43mmy_mock_catalog\u001b[39;49m\u001b[38;5;124;43m'\u001b[39;49m\u001b[43m,\u001b[49m\u001b[43m \u001b[49m\u001b[38;5;241;43m*\u001b[39;49m\u001b[38;5;241;43m*\u001b[39;49m\u001b[43mfpower\u001b[49m\u001b[38;5;241;43m.\u001b[39;49m\u001b[43moptions\u001b[49m\u001b[43m)\u001b[49m\n",
      "File \u001b[0;32m~/Bureau/DESI/NERSC/cosmodesi/desipipe/desipipe/file_manager.py:942\u001b[0m, in \u001b[0;36mFileEntryCollection.get\u001b[0;34m(self, check_exists, raise_error, *args, **kwargs)\u001b[0m\n\u001b[1;32m    922\u001b[0m \u001b[38;5;28;01mdef\u001b[39;00m \u001b[38;5;21mget\u001b[39m(\u001b[38;5;28mself\u001b[39m, \u001b[38;5;241m*\u001b[39margs, check_exists\u001b[38;5;241m=\u001b[39m\u001b[38;5;28;01mFalse\u001b[39;00m, raise_error\u001b[38;5;241m=\u001b[39m\u001b[38;5;28;01mTrue\u001b[39;00m, \u001b[38;5;241m*\u001b[39m\u001b[38;5;241m*\u001b[39mkwargs):\n\u001b[1;32m    923\u001b[0m \u001b[38;5;250m    \u001b[39m\u001b[38;5;124;03m\"\"\"\u001b[39;00m\n\u001b[1;32m    924\u001b[0m \u001b[38;5;124;03m    Return the :class:`BaseFile` instance that matches input arguments, see :meth:`select`.\u001b[39;00m\n\u001b[1;32m    925\u001b[0m \n\u001b[0;32m   (...)\u001b[0m\n\u001b[1;32m    940\u001b[0m \u001b[38;5;124;03m    file : BaseFile\u001b[39;00m\n\u001b[1;32m    941\u001b[0m \u001b[38;5;124;03m    \"\"\"\u001b[39;00m\n\u001b[0;32m--> 942\u001b[0m     new \u001b[38;5;241m=\u001b[39m \u001b[38;5;28;43mself\u001b[39;49m\u001b[38;5;241;43m.\u001b[39;49m\u001b[43mselect\u001b[49m\u001b[43m(\u001b[49m\u001b[38;5;241;43m*\u001b[39;49m\u001b[43margs\u001b[49m\u001b[43m,\u001b[49m\u001b[43m \u001b[49m\u001b[43mempty_error\u001b[49m\u001b[38;5;241;43m=\u001b[39;49m\u001b[43mraise_error\u001b[49m\u001b[43m,\u001b[49m\u001b[43m \u001b[49m\u001b[38;5;241;43m*\u001b[39;49m\u001b[38;5;241;43m*\u001b[39;49m\u001b[43mkwargs\u001b[49m\u001b[43m)\u001b[49m\n\u001b[1;32m    943\u001b[0m     \u001b[38;5;28;01mif\u001b[39;00m \u001b[38;5;28mlen\u001b[39m(new\u001b[38;5;241m.\u001b[39mdata) \u001b[38;5;241m==\u001b[39m \u001b[38;5;241m1\u001b[39m:\n\u001b[1;32m    944\u001b[0m         \u001b[38;5;28;01mreturn\u001b[39;00m new\u001b[38;5;241m.\u001b[39mdata[\u001b[38;5;241m0\u001b[39m]\u001b[38;5;241m.\u001b[39mget(check_exists\u001b[38;5;241m=\u001b[39mcheck_exists, raise_error\u001b[38;5;241m=\u001b[39mraise_error)\n",
      "File \u001b[0;32m~/Bureau/DESI/NERSC/cosmodesi/desipipe/desipipe/file_manager.py:919\u001b[0m, in \u001b[0;36mFileEntryCollection.select\u001b[0;34m(self, id, filetype, keywords, empty_error, **kwargs)\u001b[0m\n\u001b[1;32m    877\u001b[0m \u001b[38;5;28;01mdef\u001b[39;00m \u001b[38;5;21mselect\u001b[39m(\u001b[38;5;28mself\u001b[39m, \u001b[38;5;28mid\u001b[39m\u001b[38;5;241m=\u001b[39m\u001b[38;5;28;01mNone\u001b[39;00m, filetype\u001b[38;5;241m=\u001b[39m\u001b[38;5;28;01mNone\u001b[39;00m, keywords\u001b[38;5;241m=\u001b[39m\u001b[38;5;28;01mNone\u001b[39;00m, empty_error\u001b[38;5;241m=\u001b[39m\u001b[38;5;28;01mFalse\u001b[39;00m, \u001b[38;5;241m*\u001b[39m\u001b[38;5;241m*\u001b[39mkwargs):\n\u001b[1;32m    878\u001b[0m \u001b[38;5;250m    \u001b[39m\u001b[38;5;124;03m\"\"\"\u001b[39;00m\n\u001b[1;32m    879\u001b[0m \u001b[38;5;124;03m    Restrict to input identifiers, keywords, or options, e.g.\u001b[39;00m\n\u001b[1;32m    880\u001b[0m \n\u001b[0;32m   (...)\u001b[0m\n\u001b[1;32m    917\u001b[0m \u001b[38;5;124;03m        Selected data base.\u001b[39;00m\n\u001b[1;32m    918\u001b[0m \u001b[38;5;124;03m    \"\"\"\u001b[39;00m\n\u001b[0;32m--> 919\u001b[0m     data \u001b[38;5;241m=\u001b[39m \u001b[38;5;28;43mself\u001b[39;49m\u001b[38;5;241;43m.\u001b[39;49m\u001b[43mindex\u001b[49m\u001b[43m(\u001b[49m\u001b[38;5;28;43mid\u001b[39;49m\u001b[38;5;241;43m=\u001b[39;49m\u001b[38;5;28;43mid\u001b[39;49m\u001b[43m,\u001b[49m\u001b[43m \u001b[49m\u001b[43mfiletype\u001b[49m\u001b[38;5;241;43m=\u001b[39;49m\u001b[43mfiletype\u001b[49m\u001b[43m,\u001b[49m\u001b[43m \u001b[49m\u001b[43mkeywords\u001b[49m\u001b[38;5;241;43m=\u001b[39;49m\u001b[43mkeywords\u001b[49m\u001b[43m,\u001b[49m\u001b[43m \u001b[49m\u001b[43mreturn_entry\u001b[49m\u001b[38;5;241;43m=\u001b[39;49m\u001b[38;5;28;43;01mTrue\u001b[39;49;00m\u001b[43m,\u001b[49m\u001b[43m \u001b[49m\u001b[43mempty_error\u001b[49m\u001b[38;5;241;43m=\u001b[39;49m\u001b[43mempty_error\u001b[49m\u001b[43m,\u001b[49m\u001b[43m \u001b[49m\u001b[38;5;241;43m*\u001b[39;49m\u001b[38;5;241;43m*\u001b[39;49m\u001b[43mkwargs\u001b[49m\u001b[43m)\u001b[49m[\u001b[38;5;241m1\u001b[39m]\n\u001b[1;32m    920\u001b[0m     \u001b[38;5;28;01mreturn\u001b[39;00m \u001b[38;5;28mself\u001b[39m\u001b[38;5;241m.\u001b[39mclone(data\u001b[38;5;241m=\u001b[39mdata)\n",
      "File \u001b[0;32m~/Bureau/DESI/NERSC/cosmodesi/desipipe/desipipe/file_manager.py:867\u001b[0m, in \u001b[0;36mFileEntryCollection.index\u001b[0;34m(self, id, filetype, keywords, return_entry, empty_error, ignore, **kwargs)\u001b[0m\n\u001b[1;32m    865\u001b[0m     options_never_found \u001b[38;5;241m=\u001b[39m \u001b[38;5;28mset\u001b[39m\u001b[38;5;241m.\u001b[39munion(\u001b[38;5;241m*\u001b[39m[opt \u001b[38;5;28;01mfor\u001b[39;00m _, opt \u001b[38;5;129;01min\u001b[39;00m options_not_found])\n\u001b[1;32m    866\u001b[0m     best_entries \u001b[38;5;241m=\u001b[39m [entry \u001b[38;5;28;01mfor\u001b[39;00m entry, _ \u001b[38;5;129;01min\u001b[39;00m options_not_found[:limit]]\n\u001b[0;32m--> 867\u001b[0m     \u001b[38;5;28;01mraise\u001b[39;00m \u001b[38;5;167;01mValueError\u001b[39;00m(\u001b[38;5;124m'\u001b[39m\u001b[38;5;124moptions \u001b[39m\u001b[38;5;132;01m{}\u001b[39;00m\u001b[38;5;124m not found in any entry, best matching entries are \u001b[39m\u001b[38;5;132;01m{}\u001b[39;00m\u001b[38;5;124m. Note that you can pass ignore=True to ignore input options that cannot be found in any file entry\u001b[39m\u001b[38;5;124m'\u001b[39m\u001b[38;5;241m.\u001b[39mformat(options_never_found, best_entries))\n\u001b[1;32m    868\u001b[0m values_not_found \u001b[38;5;241m=\u001b[39m \u001b[38;5;28msorted\u001b[39m(values_not_found, key\u001b[38;5;241m=\u001b[39m\u001b[38;5;28;01mlambda\u001b[39;00m x: \u001b[38;5;28msum\u001b[39m(\u001b[38;5;28mbool\u001b[39m(values) \u001b[38;5;28;01mfor\u001b[39;00m values \u001b[38;5;129;01min\u001b[39;00m x[\u001b[38;5;241m1\u001b[39m]\u001b[38;5;241m.\u001b[39moptions\u001b[38;5;241m.\u001b[39mvalues()), reverse\u001b[38;5;241m=\u001b[39m\u001b[38;5;28;01mTrue\u001b[39;00m)\n\u001b[1;32m    869\u001b[0m values_never_found \u001b[38;5;241m=\u001b[39m {name: value \u001b[38;5;28;01mfor\u001b[39;00m name, value \u001b[38;5;129;01min\u001b[39;00m kwargs\u001b[38;5;241m.\u001b[39mitems() \u001b[38;5;28;01mif\u001b[39;00m \u001b[38;5;129;01mnot\u001b[39;00m \u001b[38;5;28mall\u001b[39m(\u001b[38;5;28mbool\u001b[39m(sentry\u001b[38;5;241m.\u001b[39moptions[name]) \u001b[38;5;28;01mfor\u001b[39;00m _, sentry \u001b[38;5;129;01min\u001b[39;00m values_not_found)}\n",
      "\u001b[0;31mValueError\u001b[0m: options {'interlacing'} not found in any entry, best matching entries are [BaseFileEntry(\npath: _tests_fm/data_boxsize{boxsize:.0f}_{imock:d}.fits,\nfiletype: catalog,\nid: my_mock_catalog,\nauthor: You,\noptions: {'boxsize': [1000.0], 'imock': [0, 1, 2, 3, 4, 5, 6, 7, 8, 9]},\ndescription: Mock catalogs,\nlink: \n)]. Note that you can pass ignore=True to ignore input options that cannot be found in any file entry"
     ]
    }
   ],
   "source": [
    "# It is often useful to iterate on a file to produce, let's do this for the power spectrum:\n",
    "# we want to get the catalog corresponding to each power spectrum to compute\n",
    "for fpower in fm.select(id='my_mock_power_spectrum', imock=[0, 1]).iter():\n",
    "    print(fpower.options)\n",
    "    fcatalog = fm.get(id='my_mock_catalog', **fpower.options)"
   ]
  },
  {
   "cell_type": "code",
   "execution_count": 19,
   "id": "951dc631-407d-43de-8f81-615130ca8166",
   "metadata": {},
   "outputs": [
    {
     "name": "stdout",
     "output_type": "stream",
     "text": [
      "_tests_fm/power_spectrum_boxsize1000_interlacing0_0.npy _tests_fm/data_boxsize1000_0.fits\n",
      "_tests_fm/power_spectrum_boxsize1000_interlacing3_0.npy _tests_fm/data_boxsize1000_0.fits\n",
      "_tests_fm/power_spectrum_boxsize1000_interlacing0_1.npy _tests_fm/data_boxsize1000_1.fits\n",
      "_tests_fm/power_spectrum_boxsize1000_interlacing3_1.npy _tests_fm/data_boxsize1000_1.fits\n"
     ]
    }
   ],
   "source": [
    "# Oups! This does not work because 'interlacing' is not part of my_mock_catalog options\n",
    "# To remedy this, let's use ignore=True\n",
    "\n",
    "for fpower in fm.select(id='my_mock_power_spectrum', imock=[0, 1]).iter():\n",
    "    fcatalog = fm.get(id='my_mock_catalog', **fpower.options, ignore=True)\n",
    "    print(fpower, fcatalog)"
   ]
  },
  {
   "cell_type": "code",
   "execution_count": 20,
   "id": "04941660-9433-4527-9f73-d5e636924a10",
   "metadata": {},
   "outputs": [
    {
     "name": "stdout",
     "output_type": "stream",
     "text": [
      "FileManager(\n",
      "BaseFileEntry(\n",
      "path: _tests_fm/power_spectrum_boxsize{boxsize:.0f}_interlacing{interlacing:d}_{imock:d}.npy,\n",
      "filetype: power,\n",
      "id: my_mock_power_spectrum,\n",
      "author: You,\n",
      "options: {'boxsize': [1000.0], 'imock': range(0, 10), 'interlacing': [0, 3]},\n",
      "description: Power spectrum measurements for mock catalogs,\n",
      "link: \n",
      ")\n",
      ")\n"
     ]
    }
   ],
   "source": [
    "# To help ourselves, we can also use keywords, that match file entry's descriptions\n",
    "\n",
    "print(fm.select(keywords='spectrum'))"
   ]
  },
  {
   "cell_type": "code",
   "execution_count": 21,
   "id": "e89e0c42-df7c-4074-af08-8a82b4d3b0b2",
   "metadata": {},
   "outputs": [
    {
     "ename": "ValueError",
     "evalue": "id ['my_mock_power_spectru'] not found, maybe you meant [['my_mock_power_spectrum', 'my_mock_catalog']]?",
     "output_type": "error",
     "traceback": [
      "\u001b[0;31m---------------------------------------------------------------------------\u001b[0m",
      "\u001b[0;31mValueError\u001b[0m                                Traceback (most recent call last)",
      "Cell \u001b[0;32mIn[21], line 3\u001b[0m\n\u001b[1;32m      1\u001b[0m \u001b[38;5;66;03m# If we want to make sure we do select entries, pass empty_error=True\u001b[39;00m\n\u001b[0;32m----> 3\u001b[0m \u001b[38;5;28;01mfor\u001b[39;00m fpower \u001b[38;5;129;01min\u001b[39;00m \u001b[43mfm\u001b[49m\u001b[38;5;241;43m.\u001b[39;49m\u001b[43mselect\u001b[49m\u001b[43m(\u001b[49m\u001b[38;5;28;43mid\u001b[39;49m\u001b[38;5;241;43m=\u001b[39;49m\u001b[38;5;124;43m'\u001b[39;49m\u001b[38;5;124;43mmy_mock_power_spectru\u001b[39;49m\u001b[38;5;124;43m'\u001b[39;49m\u001b[43m,\u001b[49m\u001b[43m \u001b[49m\u001b[43mempty_error\u001b[49m\u001b[38;5;241;43m=\u001b[39;49m\u001b[38;5;28;43;01mTrue\u001b[39;49;00m\u001b[43m)\u001b[49m\u001b[38;5;241m.\u001b[39miter():\n\u001b[1;32m      4\u001b[0m     fcatalog \u001b[38;5;241m=\u001b[39m fm\u001b[38;5;241m.\u001b[39mget(\u001b[38;5;28mid\u001b[39m\u001b[38;5;241m=\u001b[39m\u001b[38;5;124m'\u001b[39m\u001b[38;5;124mmy_mock_catalog\u001b[39m\u001b[38;5;124m'\u001b[39m, \u001b[38;5;241m*\u001b[39m\u001b[38;5;241m*\u001b[39mfpower\u001b[38;5;241m.\u001b[39moptions, ignore\u001b[38;5;241m=\u001b[39m\u001b[38;5;28;01mTrue\u001b[39;00m)\n",
      "File \u001b[0;32m~/Bureau/DESI/NERSC/cosmodesi/desipipe/desipipe/file_manager.py:919\u001b[0m, in \u001b[0;36mFileEntryCollection.select\u001b[0;34m(self, id, filetype, keywords, empty_error, **kwargs)\u001b[0m\n\u001b[1;32m    877\u001b[0m \u001b[38;5;28;01mdef\u001b[39;00m \u001b[38;5;21mselect\u001b[39m(\u001b[38;5;28mself\u001b[39m, \u001b[38;5;28mid\u001b[39m\u001b[38;5;241m=\u001b[39m\u001b[38;5;28;01mNone\u001b[39;00m, filetype\u001b[38;5;241m=\u001b[39m\u001b[38;5;28;01mNone\u001b[39;00m, keywords\u001b[38;5;241m=\u001b[39m\u001b[38;5;28;01mNone\u001b[39;00m, empty_error\u001b[38;5;241m=\u001b[39m\u001b[38;5;28;01mFalse\u001b[39;00m, \u001b[38;5;241m*\u001b[39m\u001b[38;5;241m*\u001b[39mkwargs):\n\u001b[1;32m    878\u001b[0m \u001b[38;5;250m    \u001b[39m\u001b[38;5;124;03m\"\"\"\u001b[39;00m\n\u001b[1;32m    879\u001b[0m \u001b[38;5;124;03m    Restrict to input identifiers, keywords, or options, e.g.\u001b[39;00m\n\u001b[1;32m    880\u001b[0m \n\u001b[0;32m   (...)\u001b[0m\n\u001b[1;32m    917\u001b[0m \u001b[38;5;124;03m        Selected data base.\u001b[39;00m\n\u001b[1;32m    918\u001b[0m \u001b[38;5;124;03m    \"\"\"\u001b[39;00m\n\u001b[0;32m--> 919\u001b[0m     data \u001b[38;5;241m=\u001b[39m \u001b[38;5;28;43mself\u001b[39;49m\u001b[38;5;241;43m.\u001b[39;49m\u001b[43mindex\u001b[49m\u001b[43m(\u001b[49m\u001b[38;5;28;43mid\u001b[39;49m\u001b[38;5;241;43m=\u001b[39;49m\u001b[38;5;28;43mid\u001b[39;49m\u001b[43m,\u001b[49m\u001b[43m \u001b[49m\u001b[43mfiletype\u001b[49m\u001b[38;5;241;43m=\u001b[39;49m\u001b[43mfiletype\u001b[49m\u001b[43m,\u001b[49m\u001b[43m \u001b[49m\u001b[43mkeywords\u001b[49m\u001b[38;5;241;43m=\u001b[39;49m\u001b[43mkeywords\u001b[49m\u001b[43m,\u001b[49m\u001b[43m \u001b[49m\u001b[43mreturn_entry\u001b[49m\u001b[38;5;241;43m=\u001b[39;49m\u001b[38;5;28;43;01mTrue\u001b[39;49;00m\u001b[43m,\u001b[49m\u001b[43m \u001b[49m\u001b[43mempty_error\u001b[49m\u001b[38;5;241;43m=\u001b[39;49m\u001b[43mempty_error\u001b[49m\u001b[43m,\u001b[49m\u001b[43m \u001b[49m\u001b[38;5;241;43m*\u001b[39;49m\u001b[38;5;241;43m*\u001b[39;49m\u001b[43mkwargs\u001b[49m\u001b[43m)\u001b[49m[\u001b[38;5;241m1\u001b[39m]\n\u001b[1;32m    920\u001b[0m     \u001b[38;5;28;01mreturn\u001b[39;00m \u001b[38;5;28mself\u001b[39m\u001b[38;5;241m.\u001b[39mclone(data\u001b[38;5;241m=\u001b[39mdata)\n",
      "File \u001b[0;32m~/Bureau/DESI/NERSC/cosmodesi/desipipe/desipipe/file_manager.py:854\u001b[0m, in \u001b[0;36mFileEntryCollection.index\u001b[0;34m(self, id, filetype, keywords, return_entry, empty_error, ignore, **kwargs)\u001b[0m\n\u001b[1;32m    852\u001b[0m limit \u001b[38;5;241m=\u001b[39m \u001b[38;5;241m2\u001b[39m\n\u001b[1;32m    853\u001b[0m \u001b[38;5;28;01mif\u001b[39;00m \u001b[38;5;28mid\u001b[39m \u001b[38;5;129;01mis\u001b[39;00m \u001b[38;5;129;01mnot\u001b[39;00m \u001b[38;5;28;01mNone\u001b[39;00m \u001b[38;5;129;01mand\u001b[39;00m not_id:\n\u001b[0;32m--> 854\u001b[0m     \u001b[38;5;28;01mraise\u001b[39;00m \u001b[38;5;167;01mValueError\u001b[39;00m(\u001b[38;5;124m'\u001b[39m\u001b[38;5;124mid \u001b[39m\u001b[38;5;132;01m{}\u001b[39;00m\u001b[38;5;124m not found, maybe you meant \u001b[39m\u001b[38;5;132;01m{}\u001b[39;00m\u001b[38;5;124m?\u001b[39m\u001b[38;5;124m'\u001b[39m\u001b[38;5;241m.\u001b[39mformat(\u001b[38;5;28mid\u001b[39m, [[tmp[\u001b[38;5;241m0\u001b[39m] \u001b[38;5;28;01mfor\u001b[39;00m tmp \u001b[38;5;129;01min\u001b[39;00m process\u001b[38;5;241m.\u001b[39mextract(_, [entry\u001b[38;5;241m.\u001b[39mid\u001b[38;5;241m.\u001b[39mlower() \u001b[38;5;28;01mfor\u001b[39;00m entry \u001b[38;5;129;01min\u001b[39;00m \u001b[38;5;28mself\u001b[39m\u001b[38;5;241m.\u001b[39mdata], limit\u001b[38;5;241m=\u001b[39mlimit)] \u001b[38;5;28;01mfor\u001b[39;00m _ \u001b[38;5;129;01min\u001b[39;00m \u001b[38;5;28mid\u001b[39m]))\n\u001b[1;32m    855\u001b[0m \u001b[38;5;28;01mif\u001b[39;00m filetype \u001b[38;5;129;01mis\u001b[39;00m \u001b[38;5;129;01mnot\u001b[39;00m \u001b[38;5;28;01mNone\u001b[39;00m \u001b[38;5;129;01mand\u001b[39;00m not_filetype:\n\u001b[1;32m    856\u001b[0m     \u001b[38;5;28;01mraise\u001b[39;00m \u001b[38;5;167;01mValueError\u001b[39;00m(\u001b[38;5;124m'\u001b[39m\u001b[38;5;124mfiletype \u001b[39m\u001b[38;5;132;01m{}\u001b[39;00m\u001b[38;5;124m not found, maybe you meant \u001b[39m\u001b[38;5;132;01m{}\u001b[39;00m\u001b[38;5;124m?\u001b[39m\u001b[38;5;124m'\u001b[39m\u001b[38;5;241m.\u001b[39mformat(filetype, [[tmp[\u001b[38;5;241m0\u001b[39m] \u001b[38;5;28;01mfor\u001b[39;00m tmp \u001b[38;5;129;01min\u001b[39;00m process\u001b[38;5;241m.\u001b[39mextract(_, [entry\u001b[38;5;241m.\u001b[39mfiletype\u001b[38;5;241m.\u001b[39mlower() \u001b[38;5;28;01mfor\u001b[39;00m entry \u001b[38;5;129;01min\u001b[39;00m \u001b[38;5;28mself\u001b[39m\u001b[38;5;241m.\u001b[39mdata], limit\u001b[38;5;241m=\u001b[39mlimit)] \u001b[38;5;28;01mfor\u001b[39;00m _ \u001b[38;5;129;01min\u001b[39;00m filetype]))\n",
      "\u001b[0;31mValueError\u001b[0m: id ['my_mock_power_spectru'] not found, maybe you meant [['my_mock_power_spectrum', 'my_mock_catalog']]?"
     ]
    }
   ],
   "source": [
    "# If we want to make sure we do select entries, pass empty_error=True\n",
    "\n",
    "for fpower in fm.select(id='my_mock_power_spectru', empty_error=True).iter():\n",
    "    fcatalog = fm.get(id='my_mock_catalog', **fpower.options, ignore=True)"
   ]
  },
  {
   "cell_type": "code",
   "execution_count": 22,
   "id": "a7137820-d4e6-436d-9ac5-d93f45d5bbde",
   "metadata": {},
   "outputs": [
    {
     "name": "stdout",
     "output_type": "stream",
     "text": [
      "['_tests_fm/data_boxsize1000_1.fits', '_tests_fm/data_other_boxsize2000_2.fits', '_tests_fm/data_other_boxsize2000_3.fits']\n"
     ]
    }
   ],
   "source": [
    "# Let's save some more files\n",
    "\n",
    "for fcatalog in fm3.select(id='my_other_mock_catalog', imock=[2, 3]).iter():\n",
    "    catalog = RandomBoxCatalog(boxsize=file.options['boxsize'], csize=100)\n",
    "    fcatalog.save(catalog)\n",
    "\n",
    "# Then, we can check existing files with exists()\n",
    "print(fm3.exists()[True])"
   ]
  },
  {
   "cell_type": "code",
   "execution_count": 23,
   "id": "49243532-dc18-4b75-9dc0-14ef87149b84",
   "metadata": {},
   "outputs": [
    {
     "name": "stdout",
     "output_type": "stream",
     "text": [
      "FileManager(\n",
      "BaseFileEntry(\n",
      "path: _tests_fm/data_boxsize{boxsize:.0f}_{imock:d}.fits,\n",
      "filetype: catalog,\n",
      "id: my_mock_catalog,\n",
      "author: You,\n",
      "options: {'boxsize': [1000.0], 'imock': [0, 1, 2, 3, 4, 5, 6, 7, 8, 9]},\n",
      "description: Mock catalogs,\n",
      "link: \n",
      "),\n",
      "BaseFileEntry(\n",
      "path: _tests_fm/power_spectrum_boxsize{boxsize:.0f}_interlacing{interlacing:d}_{imock:d}.npy,\n",
      "filetype: power,\n",
      "id: my_mock_power_spectrum,\n",
      "author: You,\n",
      "options: {'boxsize': [1000.0], 'imock': range(0, 10), 'interlacing': [0, 3]},\n",
      "description: Power spectrum measurements for mock catalogs,\n",
      "link: \n",
      ")\n",
      ")\n"
     ]
    }
   ],
   "source": [
    "# Eventually, the file manager can be saved as .yaml\n",
    "fm.save('_tests_fm/files.yaml')\n",
    "\n",
    "# And reloaded\n",
    "fm = FileManager('_tests_fm/files.yaml')\n",
    "print(fm)"
   ]
  },
  {
   "cell_type": "code",
   "execution_count": 24,
   "id": "74cbf476-368f-4a52-842a-81d91befac30",
   "metadata": {},
   "outputs": [
    {
     "name": "stdout",
     "output_type": "stream",
     "text": [
      "author: You\n",
      "description: Mock catalogs\n",
      "filetype: catalog\n",
      "id: my_mock_catalog\n",
      "link: ''\n",
      "options:\n",
      "  boxsize: [1000.0]\n",
      "  imock: [0, 1, 2, 3, 4, 5, 6, 7, 8, 9]\n",
      "path: _tests_fm/data_boxsize{boxsize:.0f}_{imock:d}.fits\n",
      "---\n",
      "author: You\n",
      "description: Power spectrum measurements for mock catalogs\n",
      "filetype: power\n",
      "id: my_mock_power_spectrum\n",
      "link: ''\n",
      "options:\n",
      "  boxsize: [1000.0]\n",
      "  imock: range(0, 10)\n",
      "  interlacing: [0, 3]\n",
      "path: _tests_fm/power_spectrum_boxsize{boxsize:.0f}_interlacing{interlacing:d}_{imock:d}.npy\n"
     ]
    }
   ],
   "source": [
    "# Di    print(fcatalog)splay the yaml file\n",
    "!cat '_tests_fm/files.yaml'"
   ]
  },
  {
   "cell_type": "markdown",
   "id": "9c235b84-267d-41ef-9d3a-ffc6d039c61e",
   "metadata": {},
   "source": [
    "# Interaction with the task manager\n",
    "Let's write a file manager, and see how it can be used together with desipipe's task management system (look at `task_manager_examples.yaml`)."
   ]
  },
  {
   "cell_type": "code",
   "execution_count": 25,
   "id": "dbc80ce6",
   "metadata": {},
   "outputs": [
    {
     "name": "stdout",
     "output_type": "stream",
     "text": [
      "Overwriting _tests_fm/files.yaml\n"
     ]
    }
   ],
   "source": [
    "%%file '_tests_fm/files.yaml'\n",
    "\n",
    "description: Some text file\n",
    "id: my_input_file\n",
    "filetype: text\n",
    "path: ${SOMEDIR}/in_{option1}_{i:d}.txt\n",
    "author: Chuck Norris\n",
    "options:\n",
    "  option1: ['a', 'b']\n",
    "  i: range(0, 3, 1)"
   ]
  },
  {
   "cell_type": "code",
   "execution_count": 26,
   "id": "b2210907",
   "metadata": {},
   "outputs": [
    {
     "name": "stdout",
     "output_type": "stream",
     "text": [
      "_tests_fm/in_a_0.txt\n",
      "_tests_fm/in_a_1.txt\n",
      "_tests_fm/in_a_2.txt\n"
     ]
    }
   ],
   "source": [
    "# We can provide environment variables, to be used in the paths\n",
    "fm = FileManager('_tests_fm/files.yaml', environ=dict(SOMEDIR='_tests_fm'))\n",
    "# Iterate over files\n",
    "for fi in fm.select(keywords='text file', option1=['a']):\n",
    "    print(fi)\n",
    "    # Write text\n",
    "    fi.save('hello world!')"
   ]
  },
  {
   "cell_type": "code",
   "execution_count": 27,
   "id": "76983469",
   "metadata": {},
   "outputs": [
    {
     "name": "stdout",
     "output_type": "stream",
     "text": [
      "author: Chuck Norris\n",
      "description: Some text file\n",
      "filetype: text\n",
      "id: my_input_file\n",
      "link: ''\n",
      "options:\n",
      "  i: range(0, 3)\n",
      "  option1: [a, b]\n",
      "path: ${SOMEDIR}/in_{option1}_{i:d}.txt\n",
      "---\n",
      "author: Chuck Norris\n",
      "description: cloned file\n",
      "filetype: text\n",
      "id: my_output_file\n",
      "link: ''\n",
      "options:\n",
      "  i: range(0, 3)\n",
      "  option1: [a, b]\n",
      "path: ${SOMEDIR}/out_{option1}_{i:d}.txt\n"
     ]
    }
   ],
   "source": [
    "# Let's add a cloned entry\n",
    "fm.append(fm.data[0].clone(id='my_output_file', description='cloned file', path='${SOMEDIR}/out_{option1}_{i:d}.txt'))\n",
    "fm.save('_tests_fm/files.yaml')\n",
    "# Display new file data base\n",
    "!cat '_tests_fm/files.yaml'"
   ]
  },
  {
   "cell_type": "code",
   "execution_count": 28,
   "id": "76993b27",
   "metadata": {},
   "outputs": [],
   "source": [
    "from desipipe import Queue, Environment, TaskManager, FileManager, spawn\n",
    "\n",
    "# Let's instantiate a Queue, which records all tasks to be performed\n",
    "queue = Queue('my_fm_test', base_dir='_tests')\n",
    "queue.clear()\n",
    "# Pool of 4 workers\n",
    "# Any environment variable can be passed to Environment: it will be set when running the tasks below\n",
    "tm = TaskManager(queue, environ=Environment(), scheduler=dict(max_workers=4))\n",
    "\n",
    "# Let's create task!\n",
    "@tm.python_app\n",
    "def copy(text_in, text_out):\n",
    "    import numpy as np  # just to illustrate below that the package version is tracked\n",
    "    text = text_in.load()\n",
    "    text += ' this is my first message'\n",
    "    print('saving', text_out.filepath)\n",
    "    text_out.save(text)"
   ]
  },
  {
   "cell_type": "code",
   "execution_count": 29,
   "id": "f2a9993f",
   "metadata": {},
   "outputs": [],
   "source": [
    "# Iterate over files, add tasks to the queue\n",
    "for fo in fm.select(id='my_output_file', option1=['a']).iter():\n",
    "    copy(fm.get(id='my_input_file', **fo.options), fo)"
   ]
  },
  {
   "cell_type": "code",
   "execution_count": 30,
   "id": "35ec386e-e770-4d23-8d91-083f6ba1ed33",
   "metadata": {},
   "outputs": [
    {
     "name": "stdout",
     "output_type": "stream",
     "text": [
      "[000000.78]  01-14 10:13  BaseFile                  INFO     Loading _tests_fm/in_a_0.txt\n",
      "[000000.84]  01-14 10:13  BaseFile                  INFO     Loading _tests_fm/in_a_2.txt\n",
      "[000000.86]  01-14 10:13  BaseFile                  INFO     Loading _tests_fm/in_a_1.txt\n",
      "[000000.80]  01-14 10:13  BaseFile                  INFO     Moving output to _tests_fm/out_a_0.txt\n",
      "[000000.89]  01-14 10:13  BaseFile                  INFO     Moving output to _tests_fm/out_a_1.txt\n",
      "[000000.97]  01-14 10:13  BaseFile                  INFO     Moving output to _tests_fm/out_a_2.txt\n"
     ]
    }
   ],
   "source": [
    "# Let's spawn a process\n",
    "from desipipe import spawn\n",
    "spawn(queue, timestep=1.)"
   ]
  },
  {
   "cell_type": "code",
   "execution_count": 31,
   "id": "b9fc0d4f",
   "metadata": {},
   "outputs": [
    {
     "name": "stdout",
     "output_type": "stream",
     "text": [
      ".\t\t\t       .desipipe   link_to_catalog.fits\n",
      "..\t\t\t       files.yaml  out_a_0.txt\n",
      "data_boxsize1000_1.fits        in_a_0.txt  out_a_1.txt\n",
      "data_other_boxsize2000_2.fits  in_a_1.txt  out_a_2.txt\n",
      "data_other_boxsize2000_3.fits  in_a_2.txt\n"
     ]
    }
   ],
   "source": [
    "!ls -a _tests_fm/"
   ]
  },
  {
   "cell_type": "code",
   "execution_count": 32,
   "id": "d01289db",
   "metadata": {},
   "outputs": [
    {
     "name": "stdout",
     "output_type": "stream",
     "text": [
      "hello world! this is my first message"
     ]
    }
   ],
   "source": [
    "!cat _tests_fm/out_a_0.txt"
   ]
  },
  {
   "cell_type": "code",
   "execution_count": 33,
   "id": "466d3b33",
   "metadata": {},
   "outputs": [
    {
     "name": "stdout",
     "output_type": "stream",
     "text": [
      ".  ..  copy.py\tcopy.versions\n",
      "\n",
      "*.py file is:\n",
      "def copy(text_in, text_out):\n",
      "    import numpy as np  # just to illustrate below that the package version is tracked\n",
      "    text = text_in.load()\n",
      "    text += ' this is my first message'\n",
      "    print('saving', text_out.filepath)\n",
      "    text_out.save(text)\n",
      "\n",
      "*.versions file is:\n",
      "mpi4py=4.0.0\n",
      "ctypes=1.1.0\n",
      "numpy=1.26.4\n"
     ]
    }
   ],
   "source": [
    "# This is where desipipe processing information is saved\n",
    "!ls -a _tests_fm/.desipipe\n",
    "print('\\n*.py file is:')\n",
    "!cat _tests_fm/.desipipe/copy.py\n",
    "print('\\n*.versions file is:')\n",
    "!cat _tests_fm/.desipipe/copy.versions"
   ]
  },
  {
   "cell_type": "code",
   "execution_count": 34,
   "id": "b47388b8",
   "metadata": {},
   "outputs": [],
   "source": [
    "# Delete queue\n",
    "queue.delete(kill=False)"
   ]
  }
 ],
 "metadata": {
  "kernelspec": {
   "display_name": "cosmodesi-main",
   "language": "python",
   "name": "cosmodesi-main"
  },
  "language_info": {
   "codemirror_mode": {
    "name": "ipython",
    "version": 3
   },
   "file_extension": ".py",
   "mimetype": "text/x-python",
   "name": "python",
   "nbconvert_exporter": "python",
   "pygments_lexer": "ipython3",
   "version": "3.10.13"
  }
 },
 "nbformat": 4,
 "nbformat_minor": 5
}
